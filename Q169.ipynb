{
 "cells": [
  {
   "cell_type": "markdown",
   "id": "bed2276f-be17-4615-a50f-576258df4d47",
   "metadata": {},
   "source": [
    "169. Majority Element\n",
    "Easy\n",
    "Topics\n",
    "Companies\n",
    "Given an array nums of size n, return the majority element.\n",
    "\n",
    "The majority element is the element that appears more than ⌊n / 2⌋ times. You may assume that the majority element always exists in the array.\n",
    "\n",
    " \n",
    "\n",
    "Example 1:\n",
    "\n",
    "Input: nums = [3,2,3]\n",
    "Output: 3\n",
    "Example 2:\n",
    "\n",
    "Input: nums = [2,2,1,1,1,2,2]\n",
    "Output: 2\n",
    " \n",
    "\n",
    "Constraints:\n",
    "\n",
    "n == nums.length\n",
    "1 <= n <= 5 * 104\n",
    "-109 <= nums[i] <= 109\n",
    " \n",
    "\n",
    "Follow-up: Could you solve the problem in linear time and in O(1) space?"
   ]
  },
  {
   "cell_type": "code",
   "execution_count": 1,
   "id": "74efd10b-a9c4-46d4-b0ea-6fd0feb564c1",
   "metadata": {
    "tags": []
   },
   "outputs": [],
   "source": [
    "nums = [2,2,1,1,1,2,2]"
   ]
  },
  {
   "cell_type": "code",
   "execution_count": 73,
   "id": "6852ecca-db45-48a2-b2d4-59a4b6ba6ad5",
   "metadata": {
    "tags": []
   },
   "outputs": [],
   "source": [
    "n = len(nums)"
   ]
  },
  {
   "cell_type": "code",
   "execution_count": 76,
   "id": "b44aa6ea-d168-4a26-9dd6-bf6468e4b747",
   "metadata": {
    "tags": []
   },
   "outputs": [],
   "source": [
    "n_half= int(n/2)+1"
   ]
  },
  {
   "cell_type": "code",
   "execution_count": 77,
   "id": "8e9addaf-f57b-48d8-9f5b-a91561dc94c5",
   "metadata": {
    "tags": []
   },
   "outputs": [
    {
     "data": {
      "text/plain": [
       "3"
      ]
     },
     "execution_count": 77,
     "metadata": {},
     "output_type": "execute_result"
    }
   ],
   "source": [
    "n_half"
   ]
  },
  {
   "cell_type": "markdown",
   "id": "a55c78d3-a268-41ae-be24-09388e889c8d",
   "metadata": {},
   "source": [
    "So an element, in this case must appear atleast 4 times to be labeled as majority."
   ]
  },
  {
   "cell_type": "markdown",
   "id": "d9b068a6-07e4-4db8-ac92-8b115497c65e",
   "metadata": {},
   "source": [
    "##### Method 1: Convert list in pandas dataframe and use groupBy to get count of all elements"
   ]
  },
  {
   "cell_type": "code",
   "execution_count": 20,
   "id": "6d024edd-e247-4c1d-8354-60680349ebe2",
   "metadata": {
    "tags": []
   },
   "outputs": [
    {
     "data": {
      "text/html": [
       "<div>\n",
       "<style scoped>\n",
       "    .dataframe tbody tr th:only-of-type {\n",
       "        vertical-align: middle;\n",
       "    }\n",
       "\n",
       "    .dataframe tbody tr th {\n",
       "        vertical-align: top;\n",
       "    }\n",
       "\n",
       "    .dataframe thead th {\n",
       "        text-align: right;\n",
       "    }\n",
       "</style>\n",
       "<table border=\"1\" class=\"dataframe\">\n",
       "  <thead>\n",
       "    <tr style=\"text-align: right;\">\n",
       "      <th></th>\n",
       "      <th>num</th>\n",
       "      <th>counts</th>\n",
       "    </tr>\n",
       "  </thead>\n",
       "  <tbody>\n",
       "    <tr>\n",
       "      <th>0</th>\n",
       "      <td>1</td>\n",
       "      <td>3</td>\n",
       "    </tr>\n",
       "    <tr>\n",
       "      <th>1</th>\n",
       "      <td>2</td>\n",
       "      <td>4</td>\n",
       "    </tr>\n",
       "  </tbody>\n",
       "</table>\n",
       "</div>"
      ],
      "text/plain": [
       "   num  counts\n",
       "0    1       3\n",
       "1    2       4"
      ]
     },
     "execution_count": 20,
     "metadata": {},
     "output_type": "execute_result"
    }
   ],
   "source": [
    "import pandas as pd\n",
    "\n",
    "ls = pd.DataFrame(nums,columns=[\"num\"]).groupby(\"num\").size().reset_index(name='counts')\n",
    "ls"
   ]
  },
  {
   "cell_type": "markdown",
   "id": "f7cc5f8c-d58b-4584-a7ba-68049c4221bd",
   "metadata": {
    "tags": []
   },
   "source": [
    "Now select the values where count >=4"
   ]
  },
  {
   "cell_type": "code",
   "execution_count": 26,
   "id": "a0edc552-3ccc-4871-a507-540bfe3533d3",
   "metadata": {
    "tags": []
   },
   "outputs": [
    {
     "data": {
      "text/plain": [
       "array([2], dtype=int64)"
      ]
     },
     "execution_count": 26,
     "metadata": {},
     "output_type": "execute_result"
    }
   ],
   "source": [
    "ls.query('counts>=4')[\"num\"].values"
   ]
  },
  {
   "cell_type": "markdown",
   "id": "ddcdaf0c-c4cc-4252-ac43-aee325ef2ab3",
   "metadata": {},
   "source": [
    "##### Method 2: Loop over list and find the count"
   ]
  },
  {
   "cell_type": "code",
   "execution_count": 79,
   "id": "5dbcc80a-3894-49a2-a6fd-420c56564551",
   "metadata": {
    "tags": []
   },
   "outputs": [],
   "source": [
    "dict={}\n",
    "for num in nums:\n",
    "    if num in dict:\n",
    "        dict[num]= dict[num]+1\n",
    "    else:\n",
    "        dict[num]= 1"
   ]
  },
  {
   "cell_type": "code",
   "execution_count": 80,
   "id": "0065e0af-f277-40f2-bd2d-44ece38ee70e",
   "metadata": {
    "tags": []
   },
   "outputs": [
    {
     "name": "stdout",
     "output_type": "stream",
     "text": [
      "7\n"
     ]
    }
   ],
   "source": [
    "keys = [key for key, val in dict.items() if val >= n_half]\n",
    "\n",
    "for val in keys:\n",
    "     print(val)"
   ]
  },
  {
   "cell_type": "code",
   "execution_count": 78,
   "id": "2b1a5190-2c2f-493e-8e71-57d7e0fc9692",
   "metadata": {
    "tags": []
   },
   "outputs": [],
   "source": [
    "nums = [8,8,7,7,7]"
   ]
  }
 ],
 "metadata": {
  "kernelspec": {
   "display_name": "Python 3 (ipykernel)",
   "language": "python",
   "name": "python3"
  },
  "language_info": {
   "codemirror_mode": {
    "name": "ipython",
    "version": 3
   },
   "file_extension": ".py",
   "mimetype": "text/x-python",
   "name": "python",
   "nbconvert_exporter": "python",
   "pygments_lexer": "ipython3",
   "version": "3.11.5"
  }
 },
 "nbformat": 4,
 "nbformat_minor": 5
}
