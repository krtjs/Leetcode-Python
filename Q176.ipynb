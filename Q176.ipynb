{
 "cells": [
  {
   "cell_type": "raw",
   "id": "993a7ec5-dfd1-4447-9b9a-f825c1712258",
   "metadata": {},
   "source": [
    "176. Second Highest Salary\n",
    "\n",
    "Table: Employee\n",
    "\n",
    "+-------------+------+\n",
    "| Column Name | Type |\n",
    "+-------------+------+\n",
    "| id          | int  |\n",
    "| salary      | int  |\n",
    "+-------------+------+\n",
    "id is the primary key (column with unique values) for this table.\n",
    "Each row of this table contains information about the salary of an employee.\n",
    " \n",
    "\n",
    "Write a solution to find the second highest distinct salary from the Employee table. If there is no second highest salary, return null (return None in Pandas).\n",
    "\n",
    "The result format is in the following example.\n",
    "\n",
    " \n",
    "\n",
    "Example 1:\n",
    "\n",
    "Input: \n",
    "Employee table:\n",
    "+----+--------+\n",
    "| id | salary |\n",
    "+----+--------+\n",
    "| 1  | 100    |\n",
    "| 2  | 200    |\n",
    "| 3  | 300    |\n",
    "+----+--------+\n",
    "Output: \n",
    "+---------------------+\n",
    "| SecondHighestSalary |\n",
    "+---------------------+\n",
    "| 200                 |\n",
    "+---------------------+\n",
    "Example 2:\n",
    "\n",
    "Input: \n",
    "Employee table:\n",
    "+----+--------+\n",
    "| id | salary |\n",
    "+----+--------+\n",
    "| 1  | 100    |\n",
    "+----+--------+\n",
    "Output: \n",
    "+---------------------+\n",
    "| SecondHighestSalary |\n",
    "+---------------------+\n",
    "| null                |\n",
    "+---------------------+"
   ]
  },
  {
   "cell_type": "markdown",
   "id": "13137225-93d4-46d0-96c4-6c457b2370d7",
   "metadata": {},
   "source": [
    "#### Python"
   ]
  },
  {
   "cell_type": "code",
   "execution_count": 2,
   "id": "cc77ecb0-417a-4398-84da-1a9797de3678",
   "metadata": {
    "tags": []
   },
   "outputs": [
    {
     "data": {
      "text/html": [
       "<div>\n",
       "<style scoped>\n",
       "    .dataframe tbody tr th:only-of-type {\n",
       "        vertical-align: middle;\n",
       "    }\n",
       "\n",
       "    .dataframe tbody tr th {\n",
       "        vertical-align: top;\n",
       "    }\n",
       "\n",
       "    .dataframe thead th {\n",
       "        text-align: right;\n",
       "    }\n",
       "</style>\n",
       "<table border=\"1\" class=\"dataframe\">\n",
       "  <thead>\n",
       "    <tr style=\"text-align: right;\">\n",
       "      <th></th>\n",
       "      <th>id</th>\n",
       "      <th>salary</th>\n",
       "    </tr>\n",
       "  </thead>\n",
       "  <tbody>\n",
       "    <tr>\n",
       "      <th>0</th>\n",
       "      <td>1</td>\n",
       "      <td>100</td>\n",
       "    </tr>\n",
       "    <tr>\n",
       "      <th>1</th>\n",
       "      <td>2</td>\n",
       "      <td>300</td>\n",
       "    </tr>\n",
       "    <tr>\n",
       "      <th>2</th>\n",
       "      <td>3</td>\n",
       "      <td>200</td>\n",
       "    </tr>\n",
       "  </tbody>\n",
       "</table>\n",
       "</div>"
      ],
      "text/plain": [
       "   id  salary\n",
       "0   1     100\n",
       "1   2     300\n",
       "2   3     200"
      ]
     },
     "metadata": {},
     "output_type": "display_data"
    }
   ],
   "source": [
    "import pandas as pd\n",
    "\n",
    "data = {\"id\":[1,2,3],\"salary\":[100,300,200]}\n",
    "\n",
    "employee = pd.DataFrame(data)\n",
    "\n",
    "display(employee)"
   ]
  },
  {
   "cell_type": "code",
   "execution_count": 13,
   "id": "623f1048-b898-4030-8078-464551088aab",
   "metadata": {
    "tags": []
   },
   "outputs": [],
   "source": [
    "def second_highest_salary(employee: pd.DataFrame) -> pd.DataFrame:\n",
    "    employee = employee.drop_duplicates(\"salary\")\n",
    "    if employee.shape[0]>=2:\n",
    "        employee = employee.sort_values(\"salary\", ascending = False)\n",
    "        # select 2nd column value of the second row which is second highest salary as data is sorted in descending order\n",
    "        output = employee.iloc[1][1]\n",
    "    else:\n",
    "        output = None\n",
    "    # pass the scalar output variable as a list to DataFrame function\n",
    "    output_df = pd.DataFrame([output], columns=['SecondHighestSalary']) \n",
    "    return output_df"
   ]
  },
  {
   "cell_type": "code",
   "execution_count": 14,
   "id": "f192c319-a2c4-4c0b-b185-852fa6189cb3",
   "metadata": {
    "tags": []
   },
   "outputs": [],
   "source": [
    "second_highest_sal = second_highest_salary(employee)"
   ]
  },
  {
   "cell_type": "code",
   "execution_count": 15,
   "id": "2dbcf5d4-b8c5-417e-b4bd-9325d8711da9",
   "metadata": {
    "tags": []
   },
   "outputs": [
    {
     "data": {
      "text/html": [
       "<div>\n",
       "<style scoped>\n",
       "    .dataframe tbody tr th:only-of-type {\n",
       "        vertical-align: middle;\n",
       "    }\n",
       "\n",
       "    .dataframe tbody tr th {\n",
       "        vertical-align: top;\n",
       "    }\n",
       "\n",
       "    .dataframe thead th {\n",
       "        text-align: right;\n",
       "    }\n",
       "</style>\n",
       "<table border=\"1\" class=\"dataframe\">\n",
       "  <thead>\n",
       "    <tr style=\"text-align: right;\">\n",
       "      <th></th>\n",
       "      <th>SecondHighestSalary</th>\n",
       "    </tr>\n",
       "  </thead>\n",
       "  <tbody>\n",
       "    <tr>\n",
       "      <th>0</th>\n",
       "      <td>200</td>\n",
       "    </tr>\n",
       "  </tbody>\n",
       "</table>\n",
       "</div>"
      ],
      "text/plain": [
       "   SecondHighestSalary\n",
       "0                  200"
      ]
     },
     "metadata": {},
     "output_type": "display_data"
    }
   ],
   "source": [
    "display(second_highest_sal)"
   ]
  },
  {
   "cell_type": "markdown",
   "id": "f6a88b2c-1f07-4833-b04e-b55b8fc54be2",
   "metadata": {},
   "source": [
    "#### SQL"
   ]
  },
  {
   "cell_type": "raw",
   "id": "05f512f4-cfb6-4328-ac59-7f1b827d0c12",
   "metadata": {},
   "source": [
    "drop table if exists employee; \n",
    "\n",
    "create table employee(id int, salary int);\n",
    "\n",
    "insert into employee values (1,100),(2,300),(3,200);\n",
    "\n",
    "SELECT NVL((\n",
    "    SELECT distinct salary\n",
    "    FROM (\n",
    "        SELECT  salary, dense_RANK() OVER (ORDER BY salary DESC) AS rn \n",
    "        FROM employee\n",
    "    ) temp\n",
    "    WHERE rn = 2\n",
    "), NULL) AS SecondHighestSalary\n",
    "FROM dual;\n"
   ]
  }
 ],
 "metadata": {
  "kernelspec": {
   "display_name": "Python 3 (ipykernel)",
   "language": "python",
   "name": "python3"
  },
  "language_info": {
   "codemirror_mode": {
    "name": "ipython",
    "version": 3
   },
   "file_extension": ".py",
   "mimetype": "text/x-python",
   "name": "python",
   "nbconvert_exporter": "python",
   "pygments_lexer": "ipython3",
   "version": "3.11.5"
  }
 },
 "nbformat": 4,
 "nbformat_minor": 5
}
