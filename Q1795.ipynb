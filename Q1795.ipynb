{
 "cells": [
  {
   "cell_type": "raw",
   "id": "8bd01903-ae80-4f4b-839d-2904b63514a1",
   "metadata": {},
   "source": [
    "1795. Rearrange Products Table\n",
    "\n",
    "Table: Products\n",
    "\n",
    "+-------------+---------+\n",
    "| Column Name | Type    |\n",
    "+-------------+---------+\n",
    "| product_id  | int     |\n",
    "| store1      | int     |\n",
    "| store2      | int     |\n",
    "| store3      | int     |\n",
    "+-------------+---------+\n",
    "product_id is the primary key (column with unique values) for this table.\n",
    "Each row in this table indicates the product's price in 3 different stores: store1, store2, and store3.\n",
    "If the product is not available in a store, the price will be null in that store's column.\n",
    " \n",
    "\n",
    "Write a solution to rearrange the Products table so that each row has (product_id, store, price). If a product is not available in a store, do not include a row with that product_id and store combination in the result table.\n",
    "\n",
    "Return the result table in any order.\n",
    "\n",
    "The result format is in the following example.\n",
    "\n",
    " \n",
    "\n",
    "Example 1:\n",
    "\n",
    "Input: \n",
    "Products table:\n",
    "+------------+--------+--------+--------+\n",
    "| product_id | store1 | store2 | store3 |\n",
    "+------------+--------+--------+--------+\n",
    "| 0          | 95     | 100    | 105    |\n",
    "| 1          | 70     | null   | 80     |\n",
    "+------------+--------+--------+--------+\n",
    "Output: \n",
    "+------------+--------+-------+\n",
    "| product_id | store  | price |\n",
    "+------------+--------+-------+\n",
    "| 0          | store1 | 95    |\n",
    "| 0          | store2 | 100   |\n",
    "| 0          | store3 | 105   |\n",
    "| 1          | store1 | 70    |\n",
    "| 1          | store3 | 80    |\n",
    "+------------+--------+-------+\n",
    "Explanation: \n",
    "Product 0 is available in all three stores with prices 95, 100, and 105 respectively.\n",
    "Product 1 is available in store1 with price 70 and store3 with price 80. The product is not available in store2."
   ]
  },
  {
   "cell_type": "code",
   "execution_count": 34,
   "id": "a411a6c7-39f7-4179-a6df-593802b909fe",
   "metadata": {
    "tags": []
   },
   "outputs": [
    {
     "data": {
      "text/html": [
       "<div>\n",
       "<style scoped>\n",
       "    .dataframe tbody tr th:only-of-type {\n",
       "        vertical-align: middle;\n",
       "    }\n",
       "\n",
       "    .dataframe tbody tr th {\n",
       "        vertical-align: top;\n",
       "    }\n",
       "\n",
       "    .dataframe thead th {\n",
       "        text-align: right;\n",
       "    }\n",
       "</style>\n",
       "<table border=\"1\" class=\"dataframe\">\n",
       "  <thead>\n",
       "    <tr style=\"text-align: right;\">\n",
       "      <th></th>\n",
       "      <th>product_id</th>\n",
       "      <th>store1</th>\n",
       "      <th>store2</th>\n",
       "      <th>store3</th>\n",
       "    </tr>\n",
       "  </thead>\n",
       "  <tbody>\n",
       "    <tr>\n",
       "      <th>0</th>\n",
       "      <td>0</td>\n",
       "      <td>95</td>\n",
       "      <td>100.0</td>\n",
       "      <td>105</td>\n",
       "    </tr>\n",
       "    <tr>\n",
       "      <th>1</th>\n",
       "      <td>1</td>\n",
       "      <td>70</td>\n",
       "      <td>NaN</td>\n",
       "      <td>80</td>\n",
       "    </tr>\n",
       "  </tbody>\n",
       "</table>\n",
       "</div>"
      ],
      "text/plain": [
       "   product_id  store1  store2  store3\n",
       "0           0      95   100.0     105\n",
       "1           1      70     NaN      80"
      ]
     },
     "execution_count": 34,
     "metadata": {},
     "output_type": "execute_result"
    }
   ],
   "source": [
    "import pandas as pd\n",
    "\n",
    "data = {\"product_id\":[0,1],\"store1\":[95,70],\"store2\":[100,None],\"store3\":[105,80]}\n",
    "\n",
    "Products = pd.DataFrame(data)\n",
    "\n",
    "Products"
   ]
  },
  {
   "cell_type": "code",
   "execution_count": 39,
   "id": "c63d5219-3ec7-409d-9ae0-ac6293bc25dd",
   "metadata": {
    "tags": []
   },
   "outputs": [],
   "source": [
    "output_df = pd.DataFrame(columns=[\"product_id\",\"store\",\"price\"])"
   ]
  },
  {
   "cell_type": "code",
   "execution_count": 40,
   "id": "30c80304-4a01-4557-8d90-14aa5b2936b6",
   "metadata": {
    "tags": []
   },
   "outputs": [],
   "source": [
    "for i in range(Products.shape[0]):\n",
    "    j=0\n",
    "    while(j<Products.shape[1]-1):\n",
    "        dictionary = {\"product_id\":int(Products.iloc[i][0]),\"store\":f\"store{j+1}\",\"price\":Products.iloc[i][j+1]}\n",
    "        # first entry is product id followed by prices for 3 stores, started with j=0\n",
    "        output_df= output_df._append(dictionary,ignore_index=True)\n",
    "        j=j+1\n",
    "  "
   ]
  },
  {
   "cell_type": "code",
   "execution_count": 41,
   "id": "f2d5c50b-c3f7-4577-b977-ba5ea29c77d5",
   "metadata": {},
   "outputs": [
    {
     "data": {
      "text/html": [
       "<div>\n",
       "<style scoped>\n",
       "    .dataframe tbody tr th:only-of-type {\n",
       "        vertical-align: middle;\n",
       "    }\n",
       "\n",
       "    .dataframe tbody tr th {\n",
       "        vertical-align: top;\n",
       "    }\n",
       "\n",
       "    .dataframe thead th {\n",
       "        text-align: right;\n",
       "    }\n",
       "</style>\n",
       "<table border=\"1\" class=\"dataframe\">\n",
       "  <thead>\n",
       "    <tr style=\"text-align: right;\">\n",
       "      <th></th>\n",
       "      <th>product_id</th>\n",
       "      <th>store</th>\n",
       "      <th>price</th>\n",
       "    </tr>\n",
       "  </thead>\n",
       "  <tbody>\n",
       "    <tr>\n",
       "      <th>0</th>\n",
       "      <td>0.0</td>\n",
       "      <td>store1</td>\n",
       "      <td>95.0</td>\n",
       "    </tr>\n",
       "    <tr>\n",
       "      <th>1</th>\n",
       "      <td>0.0</td>\n",
       "      <td>store2</td>\n",
       "      <td>100.0</td>\n",
       "    </tr>\n",
       "    <tr>\n",
       "      <th>2</th>\n",
       "      <td>0.0</td>\n",
       "      <td>store3</td>\n",
       "      <td>105.0</td>\n",
       "    </tr>\n",
       "    <tr>\n",
       "      <th>3</th>\n",
       "      <td>1.0</td>\n",
       "      <td>store1</td>\n",
       "      <td>70.0</td>\n",
       "    </tr>\n",
       "    <tr>\n",
       "      <th>4</th>\n",
       "      <td>1.0</td>\n",
       "      <td>store2</td>\n",
       "      <td>NaN</td>\n",
       "    </tr>\n",
       "    <tr>\n",
       "      <th>5</th>\n",
       "      <td>1.0</td>\n",
       "      <td>store3</td>\n",
       "      <td>80.0</td>\n",
       "    </tr>\n",
       "  </tbody>\n",
       "</table>\n",
       "</div>"
      ],
      "text/plain": [
       "   product_id   store  price\n",
       "0         0.0  store1   95.0\n",
       "1         0.0  store2  100.0\n",
       "2         0.0  store3  105.0\n",
       "3         1.0  store1   70.0\n",
       "4         1.0  store2    NaN\n",
       "5         1.0  store3   80.0"
      ]
     },
     "execution_count": 41,
     "metadata": {},
     "output_type": "execute_result"
    }
   ],
   "source": [
    "output_df "
   ]
  },
  {
   "cell_type": "code",
   "execution_count": 44,
   "id": "9c48ee33-f399-4e97-95a9-797cf775c38e",
   "metadata": {
    "tags": []
   },
   "outputs": [
    {
     "name": "stdout",
     "output_type": "stream",
     "text": [
      "   product_id   store  price\n",
      "0         0.0  store1   95.0\n",
      "1         0.0  store2  100.0\n",
      "2         0.0  store3  105.0\n",
      "3         1.0  store1   70.0\n",
      "5         1.0  store3   80.0\n"
     ]
    }
   ],
   "source": [
    "# remove nan\n",
    "\n",
    "output_df = output_df.dropna()\n",
    "\n",
    "print(output_df)"
   ]
  },
  {
   "cell_type": "markdown",
   "id": "502fa0c1-a6eb-45b6-83d2-a968750abc2c",
   "metadata": {},
   "source": [
    "#### SQL Solution"
   ]
  },
  {
   "cell_type": "raw",
   "id": "128f0de1-a94b-475e-b31e-e297d18a6148",
   "metadata": {},
   "source": [
    "create table products(product_id int, store1 int, store2 int, store3 int);\n",
    "\n",
    "insert into products values (0,95,100,105);\n",
    "insert into products values (1,70,null,80);\n",
    "\n",
    "select * from products;\n",
    "\n",
    "select * from\n",
    "(SELECT product_id, 'store1' AS store, store1 AS price FROM products\n",
    "UNION ALL\n",
    "SELECT product_id, 'store2' AS store, store2 AS price FROM products\n",
    "UNION ALL\n",
    "SELECT product_id, 'store3' AS store, store3 AS Price FROM products) tmp\n",
    "where price is not null;"
   ]
  }
 ],
 "metadata": {
  "kernelspec": {
   "display_name": "Python 3 (ipykernel)",
   "language": "python",
   "name": "python3"
  },
  "language_info": {
   "codemirror_mode": {
    "name": "ipython",
    "version": 3
   },
   "file_extension": ".py",
   "mimetype": "text/x-python",
   "name": "python",
   "nbconvert_exporter": "python",
   "pygments_lexer": "ipython3",
   "version": "3.11.5"
  }
 },
 "nbformat": 4,
 "nbformat_minor": 5
}
