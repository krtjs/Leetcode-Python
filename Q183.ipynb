{
 "cells": [
  {
   "cell_type": "raw",
   "id": "e1013109-b4b6-4bd3-b504-3ac7a329eb39",
   "metadata": {},
   "source": [
    "183. Customers Who Never Order\n",
    "\n",
    "Table: Customers\n",
    "\n",
    "+-------------+---------+\n",
    "| Column Name | Type    |\n",
    "+-------------+---------+\n",
    "| id          | int     |\n",
    "| name        | varchar |\n",
    "+-------------+---------+\n",
    "id is the primary key (column with unique values) for this table.\n",
    "Each row of this table indicates the ID and name of a customer.\n",
    " \n",
    "\n",
    "Table: Orders\n",
    "\n",
    "+-------------+------+\n",
    "| Column Name | Type |\n",
    "+-------------+------+\n",
    "| id          | int  |\n",
    "| customerId  | int  |\n",
    "+-------------+------+\n",
    "id is the primary key (column with unique values) for this table.\n",
    "customerId is a foreign key (reference columns) of the ID from the Customers table.\n",
    "Each row of this table indicates the ID of an order and the ID of the customer who ordered it.\n",
    " \n",
    "\n",
    "Write a solution to find all customers who never order anything.\n",
    "\n",
    "Return the result table in any order.\n",
    "\n",
    "The result format is in the following example.\n",
    "\n",
    " \n",
    "\n",
    "Example 1:\n",
    "\n",
    "Input: \n",
    "Customers table:\n",
    "+----+-------+\n",
    "| id | name  |\n",
    "+----+-------+\n",
    "| 1  | Joe   |\n",
    "| 2  | Henry |\n",
    "| 3  | Sam   |\n",
    "| 4  | Max   |\n",
    "+----+-------+\n",
    "Orders table:\n",
    "+----+------------+\n",
    "| id | customerId |\n",
    "+----+------------+\n",
    "| 1  | 3          |\n",
    "| 2  | 1          |\n",
    "+----+------------+\n",
    "Output: \n",
    "+-----------+\n",
    "| Customers |\n",
    "+-----------+\n",
    "| Henry     |\n",
    "| Max       |\n",
    "+-----------+"
   ]
  },
  {
   "cell_type": "markdown",
   "id": "e5145810-b7d2-4797-ad9e-7f4bf8618f73",
   "metadata": {},
   "source": [
    "### Python"
   ]
  },
  {
   "cell_type": "code",
   "execution_count": 1,
   "id": "c76431c3-7e3c-4dbe-9a56-290ec2ece95e",
   "metadata": {
    "tags": []
   },
   "outputs": [],
   "source": [
    "import pandas as pd\n",
    "\n",
    "data_1 = {\"id\":[1,2,3,4],\"name\":[\"Joe\",\"Henry\",\"Sam\",\"Max\"]}\n",
    "customers = pd.DataFrame(data_1)\n",
    "\n",
    "data_2 = {\"id\":[1,2],\"customer_id\":[3,1]}\n",
    "orders = pd.DataFrame(data_2)"
   ]
  },
  {
   "cell_type": "code",
   "execution_count": 2,
   "id": "15a85b00-88cc-4477-8ece-662fe550e324",
   "metadata": {
    "tags": []
   },
   "outputs": [
    {
     "data": {
      "text/plain": [
       "(   id   name\n",
       " 0   1    Joe\n",
       " 1   2  Henry\n",
       " 2   3    Sam\n",
       " 3   4    Max,\n",
       "    id  customer_id\n",
       " 0   1            3\n",
       " 1   2            1)"
      ]
     },
     "execution_count": 2,
     "metadata": {},
     "output_type": "execute_result"
    }
   ],
   "source": [
    "customers, orders"
   ]
  },
  {
   "cell_type": "code",
   "execution_count": 37,
   "id": "0a634b4b-d46a-4ba9-9f3f-b89338c1ad88",
   "metadata": {
    "tags": []
   },
   "outputs": [],
   "source": [
    "# we cacnot use df.join here as it is indexed based join so we use merge to perform column based join instead\n",
    "\n",
    "joined_df = customers.merge(orders, left_on='id', right_on='customer_id', suffixes=('_customers', '_orders'), how='left')"
   ]
  },
  {
   "cell_type": "code",
   "execution_count": 38,
   "id": "3df5f5af-95f1-4cb8-883f-450979a951ce",
   "metadata": {
    "tags": []
   },
   "outputs": [
    {
     "data": {
      "text/html": [
       "<div>\n",
       "<style scoped>\n",
       "    .dataframe tbody tr th:only-of-type {\n",
       "        vertical-align: middle;\n",
       "    }\n",
       "\n",
       "    .dataframe tbody tr th {\n",
       "        vertical-align: top;\n",
       "    }\n",
       "\n",
       "    .dataframe thead th {\n",
       "        text-align: right;\n",
       "    }\n",
       "</style>\n",
       "<table border=\"1\" class=\"dataframe\">\n",
       "  <thead>\n",
       "    <tr style=\"text-align: right;\">\n",
       "      <th></th>\n",
       "      <th>id_customers</th>\n",
       "      <th>name</th>\n",
       "      <th>id_orders</th>\n",
       "      <th>customer_id</th>\n",
       "    </tr>\n",
       "  </thead>\n",
       "  <tbody>\n",
       "    <tr>\n",
       "      <th>0</th>\n",
       "      <td>1</td>\n",
       "      <td>Joe</td>\n",
       "      <td>2.0</td>\n",
       "      <td>1.0</td>\n",
       "    </tr>\n",
       "    <tr>\n",
       "      <th>1</th>\n",
       "      <td>2</td>\n",
       "      <td>Henry</td>\n",
       "      <td>NaN</td>\n",
       "      <td>NaN</td>\n",
       "    </tr>\n",
       "    <tr>\n",
       "      <th>2</th>\n",
       "      <td>3</td>\n",
       "      <td>Sam</td>\n",
       "      <td>1.0</td>\n",
       "      <td>3.0</td>\n",
       "    </tr>\n",
       "    <tr>\n",
       "      <th>3</th>\n",
       "      <td>4</td>\n",
       "      <td>Max</td>\n",
       "      <td>NaN</td>\n",
       "      <td>NaN</td>\n",
       "    </tr>\n",
       "  </tbody>\n",
       "</table>\n",
       "</div>"
      ],
      "text/plain": [
       "   id_customers   name  id_orders  customer_id\n",
       "0             1    Joe        2.0          1.0\n",
       "1             2  Henry        NaN          NaN\n",
       "2             3    Sam        1.0          3.0\n",
       "3             4    Max        NaN          NaN"
      ]
     },
     "execution_count": 38,
     "metadata": {},
     "output_type": "execute_result"
    }
   ],
   "source": [
    "joined_df"
   ]
  },
  {
   "cell_type": "code",
   "execution_count": 70,
   "id": "9188001b-deb3-4ee2-9cbd-9d921ca8ac11",
   "metadata": {
    "tags": []
   },
   "outputs": [],
   "source": [
    "output = pd.DataFrame((joined_df[joined_df[\"id_orders\"].isnull()][\"name\"])).reset_index(drop=True).rename(columns={\"name\": \"Customers\"})\n",
    "\n",
    "# giving columns=[\"Customers\"] inside pd.DataFrame will not work properly and there will be no data , so renaming columns later"
   ]
  },
  {
   "cell_type": "code",
   "execution_count": 71,
   "id": "e328d6b8-46bd-4afd-905c-6600eaa237c1",
   "metadata": {
    "tags": []
   },
   "outputs": [
    {
     "data": {
      "text/html": [
       "<div>\n",
       "<style scoped>\n",
       "    .dataframe tbody tr th:only-of-type {\n",
       "        vertical-align: middle;\n",
       "    }\n",
       "\n",
       "    .dataframe tbody tr th {\n",
       "        vertical-align: top;\n",
       "    }\n",
       "\n",
       "    .dataframe thead th {\n",
       "        text-align: right;\n",
       "    }\n",
       "</style>\n",
       "<table border=\"1\" class=\"dataframe\">\n",
       "  <thead>\n",
       "    <tr style=\"text-align: right;\">\n",
       "      <th></th>\n",
       "      <th>Customers</th>\n",
       "    </tr>\n",
       "  </thead>\n",
       "  <tbody>\n",
       "    <tr>\n",
       "      <th>0</th>\n",
       "      <td>Henry</td>\n",
       "    </tr>\n",
       "    <tr>\n",
       "      <th>1</th>\n",
       "      <td>Max</td>\n",
       "    </tr>\n",
       "  </tbody>\n",
       "</table>\n",
       "</div>"
      ],
      "text/plain": [
       "  Customers\n",
       "0     Henry\n",
       "1       Max"
      ]
     },
     "metadata": {},
     "output_type": "display_data"
    }
   ],
   "source": [
    "display(output)"
   ]
  },
  {
   "cell_type": "markdown",
   "id": "b5bd0ee3-0b9f-45f7-9c8d-cc78c0c35b48",
   "metadata": {},
   "source": [
    "### SQL"
   ]
  },
  {
   "cell_type": "raw",
   "id": "2fe772e6-1726-4d26-9efd-7244dcd0dadd",
   "metadata": {},
   "source": [
    "create table customers(id int, name varchar(10));\n",
    "\n",
    "insert into customers values\n",
    "(1,\"Joe\"),\n",
    "(2, \"Henry\"),\n",
    "(3, \"Sam\"),\n",
    "(4, \"Max\");\n",
    "\n",
    "create table orders(id int, customerId int);\n",
    "\n",
    "insert into orders values\n",
    "(1, 3), (2, 1);\n",
    "\n",
    "select c.name as \"Customers\"\n",
    "from customers c\n",
    "left join orders o\n",
    "on c.id = o.customerId\n",
    "where o.customerId is null;"
   ]
  }
 ],
 "metadata": {
  "kernelspec": {
   "display_name": "Python 3 (ipykernel)",
   "language": "python",
   "name": "python3"
  },
  "language_info": {
   "codemirror_mode": {
    "name": "ipython",
    "version": 3
   },
   "file_extension": ".py",
   "mimetype": "text/x-python",
   "name": "python",
   "nbconvert_exporter": "python",
   "pygments_lexer": "ipython3",
   "version": "3.11.5"
  }
 },
 "nbformat": 4,
 "nbformat_minor": 5
}
