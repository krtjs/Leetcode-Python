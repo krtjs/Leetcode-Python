{
 "cells": [
  {
   "cell_type": "markdown",
   "id": "f5fa5c95-8fb2-4a8b-8895-1d08f6aad52f",
   "metadata": {},
   "source": [
    "1907. Count Salary Categories\n",
    "\n",
    "Table: Accounts\n",
    "\n",
    "+-------------+------+\n",
    "| Column Name | Type |\n",
    "+-------------+------+\n",
    "| account_id  | int  |\n",
    "| income      | int  |\n",
    "+-------------+------+\n",
    "account_id is the primary key (column with unique values) for this table.\n",
    "Each row contains information about the monthly income for one bank account.\n",
    " \n",
    "\n",
    "Write a solution to calculate the number of bank accounts for each salary category. The salary categories are:\n",
    "\n",
    "\"Low Salary\": All the salaries strictly less than $20000.\n",
    "\"Average Salary\": All the salaries in the inclusive range [$20000, $50000].\n",
    "\"High Salary\": All the salaries strictly greater than $50000.\n",
    "The result table must contain all three categories. If there are no accounts in a category, return 0.\n",
    "\n",
    "Return the result table in any order.\n",
    "\n",
    "The result format is in the following example.\n",
    "\n",
    " \n",
    "\n",
    "Example 1:\n",
    "\n",
    "Input: \n",
    "Accounts table:\n",
    "+------------+--------+\n",
    "| account_id | income |\n",
    "+------------+--------+\n",
    "| 3          | 108939 |\n",
    "| 2          | 12747  |\n",
    "| 8          | 87709  |\n",
    "| 6          | 91796  |\n",
    "+------------+--------+\n",
    "Output: \n",
    "+----------------+----------------+\n",
    "| category       | accounts_count |\n",
    "+----------------+----------------+\n",
    "| Low Salary     | 1              |\n",
    "| Average Salary | 0              |\n",
    "| High Salary    | 3              |\n",
    "+----------------+----------------+\n",
    "Explanation: \n",
    "Low Salary: Account 2.\n",
    "Average Salary: No accounts.\n",
    "High Salary: Accounts 3, 6, and 8."
   ]
  },
  {
   "cell_type": "code",
   "execution_count": 17,
   "id": "94969925-b773-4462-9f9c-f83dd5569986",
   "metadata": {
    "tags": []
   },
   "outputs": [
    {
     "data": {
      "text/html": [
       "<div>\n",
       "<style scoped>\n",
       "    .dataframe tbody tr th:only-of-type {\n",
       "        vertical-align: middle;\n",
       "    }\n",
       "\n",
       "    .dataframe tbody tr th {\n",
       "        vertical-align: top;\n",
       "    }\n",
       "\n",
       "    .dataframe thead th {\n",
       "        text-align: right;\n",
       "    }\n",
       "</style>\n",
       "<table border=\"1\" class=\"dataframe\">\n",
       "  <thead>\n",
       "    <tr style=\"text-align: right;\">\n",
       "      <th></th>\n",
       "      <th>account_id</th>\n",
       "      <th>income</th>\n",
       "    </tr>\n",
       "  </thead>\n",
       "  <tbody>\n",
       "    <tr>\n",
       "      <th>0</th>\n",
       "      <td>3</td>\n",
       "      <td>108939</td>\n",
       "    </tr>\n",
       "    <tr>\n",
       "      <th>1</th>\n",
       "      <td>2</td>\n",
       "      <td>12747</td>\n",
       "    </tr>\n",
       "    <tr>\n",
       "      <th>2</th>\n",
       "      <td>8</td>\n",
       "      <td>87709</td>\n",
       "    </tr>\n",
       "    <tr>\n",
       "      <th>3</th>\n",
       "      <td>6</td>\n",
       "      <td>91976</td>\n",
       "    </tr>\n",
       "  </tbody>\n",
       "</table>\n",
       "</div>"
      ],
      "text/plain": [
       "   account_id  income\n",
       "0           3  108939\n",
       "1           2   12747\n",
       "2           8   87709\n",
       "3           6   91976"
      ]
     },
     "execution_count": 17,
     "metadata": {},
     "output_type": "execute_result"
    }
   ],
   "source": [
    "import pandas as pd\n",
    "\n",
    "data = {\"account_id\":[3,2,8,6],\"income\":[108939,12747,87709,91976]}\n",
    "\n",
    "accounts = pd.DataFrame(data)\n",
    "\n",
    "accounts"
   ]
  },
  {
   "cell_type": "markdown",
   "id": "0e083b60-8fcb-4013-b3fa-53bf48c9316d",
   "metadata": {},
   "source": [
    "First determine catoegory for every row.\n",
    "\n",
    "https://www.codecademy.com/resources/docs/pandas/dataframe/loc\n",
    "\n",
    "We use .loc property of dataframe to create a new column based on conditions applied to an existing column"
   ]
  },
  {
   "cell_type": "code",
   "execution_count": 25,
   "id": "2dc6a00e-3591-45a5-b2b8-dc439ef0f9fa",
   "metadata": {
    "tags": []
   },
   "outputs": [
    {
     "data": {
      "text/html": [
       "<div>\n",
       "<style scoped>\n",
       "    .dataframe tbody tr th:only-of-type {\n",
       "        vertical-align: middle;\n",
       "    }\n",
       "\n",
       "    .dataframe tbody tr th {\n",
       "        vertical-align: top;\n",
       "    }\n",
       "\n",
       "    .dataframe thead th {\n",
       "        text-align: right;\n",
       "    }\n",
       "</style>\n",
       "<table border=\"1\" class=\"dataframe\">\n",
       "  <thead>\n",
       "    <tr style=\"text-align: right;\">\n",
       "      <th></th>\n",
       "      <th>account_id</th>\n",
       "      <th>income</th>\n",
       "      <th>category</th>\n",
       "    </tr>\n",
       "  </thead>\n",
       "  <tbody>\n",
       "    <tr>\n",
       "      <th>0</th>\n",
       "      <td>3</td>\n",
       "      <td>108939</td>\n",
       "      <td>High Salary</td>\n",
       "    </tr>\n",
       "    <tr>\n",
       "      <th>1</th>\n",
       "      <td>2</td>\n",
       "      <td>12747</td>\n",
       "      <td>Low Salary</td>\n",
       "    </tr>\n",
       "    <tr>\n",
       "      <th>2</th>\n",
       "      <td>8</td>\n",
       "      <td>87709</td>\n",
       "      <td>High Salary</td>\n",
       "    </tr>\n",
       "    <tr>\n",
       "      <th>3</th>\n",
       "      <td>6</td>\n",
       "      <td>91976</td>\n",
       "      <td>High Salary</td>\n",
       "    </tr>\n",
       "  </tbody>\n",
       "</table>\n",
       "</div>"
      ],
      "text/plain": [
       "   account_id  income     category\n",
       "0           3  108939  High Salary\n",
       "1           2   12747   Low Salary\n",
       "2           8   87709  High Salary\n",
       "3           6   91976  High Salary"
      ]
     },
     "execution_count": 25,
     "metadata": {},
     "output_type": "execute_result"
    }
   ],
   "source": [
    "accounts.loc[accounts[\"income\"]<20000, \"category\"] = \"Low Salary\"\n",
    "accounts.loc[(accounts[\"income\"]>=20000) & (accounts[\"income\"]<=50000), \"category\"] = \"Average Salary\"\n",
    "accounts.loc[accounts[\"income\"]>50000, \"category\"] = \"High Salary\"\n",
    "\n",
    "accounts"
   ]
  },
  {
   "cell_type": "markdown",
   "id": "9a4e3f99-cabb-4897-8daf-77250572d825",
   "metadata": {},
   "source": [
    "Now we calculate the number of account_id falling in each of the category range "
   ]
  },
  {
   "cell_type": "code",
   "execution_count": 26,
   "id": "64528d1f-711b-451f-bce6-7f7101a413ac",
   "metadata": {
    "tags": []
   },
   "outputs": [
    {
     "data": {
      "text/plain": [
       "category\n",
       "High Salary    3\n",
       "Low Salary     1\n",
       "Name: account_id, dtype: int64"
      ]
     },
     "execution_count": 26,
     "metadata": {},
     "output_type": "execute_result"
    }
   ],
   "source": [
    "output = accounts.groupby(\"category\")[\"account_id\"].count()\n",
    "\n",
    "output"
   ]
  },
  {
   "cell_type": "markdown",
   "id": "24724e55-5161-4743-afe9-d06c4682e51e",
   "metadata": {},
   "source": [
    "The data is not formatted properly so we use reset_index() so that dataframe is displayed properly"
   ]
  },
  {
   "cell_type": "code",
   "execution_count": 27,
   "id": "5f53ed59-13da-4d20-8af5-f3bcb672e692",
   "metadata": {
    "tags": []
   },
   "outputs": [
    {
     "data": {
      "text/html": [
       "<div>\n",
       "<style scoped>\n",
       "    .dataframe tbody tr th:only-of-type {\n",
       "        vertical-align: middle;\n",
       "    }\n",
       "\n",
       "    .dataframe tbody tr th {\n",
       "        vertical-align: top;\n",
       "    }\n",
       "\n",
       "    .dataframe thead th {\n",
       "        text-align: right;\n",
       "    }\n",
       "</style>\n",
       "<table border=\"1\" class=\"dataframe\">\n",
       "  <thead>\n",
       "    <tr style=\"text-align: right;\">\n",
       "      <th></th>\n",
       "      <th>category</th>\n",
       "      <th>account_id</th>\n",
       "    </tr>\n",
       "  </thead>\n",
       "  <tbody>\n",
       "    <tr>\n",
       "      <th>0</th>\n",
       "      <td>High Salary</td>\n",
       "      <td>3</td>\n",
       "    </tr>\n",
       "    <tr>\n",
       "      <th>1</th>\n",
       "      <td>Low Salary</td>\n",
       "      <td>1</td>\n",
       "    </tr>\n",
       "  </tbody>\n",
       "</table>\n",
       "</div>"
      ],
      "text/plain": [
       "      category  account_id\n",
       "0  High Salary           3\n",
       "1   Low Salary           1"
      ]
     },
     "execution_count": 27,
     "metadata": {},
     "output_type": "execute_result"
    }
   ],
   "source": [
    "output = output.reset_index()\n",
    "\n",
    "output"
   ]
  },
  {
   "cell_type": "markdown",
   "id": "690c4583-e275-4dcd-ab8a-ce1228ccaa77",
   "metadata": {},
   "source": [
    "Rename columns in output dataframe"
   ]
  },
  {
   "cell_type": "code",
   "execution_count": 28,
   "id": "ed74e4f9-f137-4fa1-9a18-6fcce80b1e36",
   "metadata": {
    "tags": []
   },
   "outputs": [
    {
     "data": {
      "text/html": [
       "<div>\n",
       "<style scoped>\n",
       "    .dataframe tbody tr th:only-of-type {\n",
       "        vertical-align: middle;\n",
       "    }\n",
       "\n",
       "    .dataframe tbody tr th {\n",
       "        vertical-align: top;\n",
       "    }\n",
       "\n",
       "    .dataframe thead th {\n",
       "        text-align: right;\n",
       "    }\n",
       "</style>\n",
       "<table border=\"1\" class=\"dataframe\">\n",
       "  <thead>\n",
       "    <tr style=\"text-align: right;\">\n",
       "      <th></th>\n",
       "      <th>category</th>\n",
       "      <th>accounts_count</th>\n",
       "    </tr>\n",
       "  </thead>\n",
       "  <tbody>\n",
       "    <tr>\n",
       "      <th>0</th>\n",
       "      <td>High Salary</td>\n",
       "      <td>3</td>\n",
       "    </tr>\n",
       "    <tr>\n",
       "      <th>1</th>\n",
       "      <td>Low Salary</td>\n",
       "      <td>1</td>\n",
       "    </tr>\n",
       "  </tbody>\n",
       "</table>\n",
       "</div>"
      ],
      "text/plain": [
       "      category  accounts_count\n",
       "0  High Salary               3\n",
       "1   Low Salary               1"
      ]
     },
     "execution_count": 28,
     "metadata": {},
     "output_type": "execute_result"
    }
   ],
   "source": [
    "output.columns = [\"category\", \"accounts_count\"]\n",
    "\n",
    "output"
   ]
  },
  {
   "cell_type": "markdown",
   "id": "03eaac74-de13-4262-a829-c5c708ec6104",
   "metadata": {},
   "source": [
    "Now we need all 3 values of category in table irrespective of whether or not any employee falls in that category, so let create an exhaustive list of all categories"
   ]
  },
  {
   "cell_type": "code",
   "execution_count": 29,
   "id": "e90fb702-f50a-4ea0-9f56-1f825e499a79",
   "metadata": {
    "tags": []
   },
   "outputs": [],
   "source": [
    "required_categories = [\"Low Salary\", \"Average Salary\", \"High Salary\"]"
   ]
  },
  {
   "cell_type": "markdown",
   "id": "2b4d3e2b-9903-447a-893c-c6e51d5be97a",
   "metadata": {},
   "source": [
    "We add any missing catogory in output and corresponding count as 0"
   ]
  },
  {
   "cell_type": "code",
   "execution_count": 30,
   "id": "2d98850b-9a93-407c-82c3-7f5294b0db16",
   "metadata": {
    "tags": []
   },
   "outputs": [
    {
     "data": {
      "text/html": [
       "<div>\n",
       "<style scoped>\n",
       "    .dataframe tbody tr th:only-of-type {\n",
       "        vertical-align: middle;\n",
       "    }\n",
       "\n",
       "    .dataframe tbody tr th {\n",
       "        vertical-align: top;\n",
       "    }\n",
       "\n",
       "    .dataframe thead th {\n",
       "        text-align: right;\n",
       "    }\n",
       "</style>\n",
       "<table border=\"1\" class=\"dataframe\">\n",
       "  <thead>\n",
       "    <tr style=\"text-align: right;\">\n",
       "      <th></th>\n",
       "      <th>category</th>\n",
       "      <th>accounts_count</th>\n",
       "    </tr>\n",
       "  </thead>\n",
       "  <tbody>\n",
       "    <tr>\n",
       "      <th>0</th>\n",
       "      <td>High Salary</td>\n",
       "      <td>3</td>\n",
       "    </tr>\n",
       "    <tr>\n",
       "      <th>1</th>\n",
       "      <td>Low Salary</td>\n",
       "      <td>1</td>\n",
       "    </tr>\n",
       "    <tr>\n",
       "      <th>2</th>\n",
       "      <td>Average Salary</td>\n",
       "      <td>0</td>\n",
       "    </tr>\n",
       "  </tbody>\n",
       "</table>\n",
       "</div>"
      ],
      "text/plain": [
       "         category  accounts_count\n",
       "0     High Salary               3\n",
       "1      Low Salary               1\n",
       "2  Average Salary               0"
      ]
     },
     "execution_count": 30,
     "metadata": {},
     "output_type": "execute_result"
    }
   ],
   "source": [
    "if output.shape[0]<len(required_categories):\n",
    "    for cat in required_categories:\n",
    "        if cat not in output[\"category\"].values:\n",
    "                output = output._append([pd.DataFrame({\"category\": [cat], \"accounts_count\": [0]})], ignore_index=True)\n",
    "\n",
    "output"
   ]
  },
  {
   "cell_type": "raw",
   "id": "b89658b2-8f3d-45ed-ae72-b0a2acef22c8",
   "metadata": {
    "tags": []
   },
   "source": [
    "Corresponding Oracle SQL code:\n",
    "\n",
    "/* Write your PL/SQL query statement below */\n",
    "with cte as \n",
    "(select account_id,\n",
    "case when income<20000 then 'Low Salary'\n",
    "when income between 20000 and 50000 then 'Average Salary'\n",
    "when income>50000 then 'High Salary' end as category\n",
    "from Accounts),\n",
    "cte1 as\n",
    "(select category, count(account_id) as cnt\n",
    "from cte\n",
    "group by category)\n",
    "select  temp.category as \"category\",\n",
    "case when temp.category = 'Low Salary' then coalesce(cte1.cnt,0)\n",
    "when temp.category = 'Average Salary' then coalesce(cte1.cnt,0)\n",
    "when temp.category = 'High Salary' then coalesce(cte1.cnt,0) end as \"accounts_count\"\n",
    "from ( SELECT 'High Salary' AS category FROM DUAL UNION ALL\n",
    "    SELECT 'Low Salary' AS category FROM DUAL UNION ALL\n",
    "    SELECT 'Average Salary' AS category FROM DUAL) temp\n",
    "left join cte1\n",
    "on temp.category = cte1.category\n"
   ]
  }
 ],
 "metadata": {
  "kernelspec": {
   "display_name": "Python 3 (ipykernel)",
   "language": "python",
   "name": "python3"
  },
  "language_info": {
   "codemirror_mode": {
    "name": "ipython",
    "version": 3
   },
   "file_extension": ".py",
   "mimetype": "text/x-python",
   "name": "python",
   "nbconvert_exporter": "python",
   "pygments_lexer": "ipython3",
   "version": "3.11.5"
  }
 },
 "nbformat": 4,
 "nbformat_minor": 5
}
