{
 "cells": [
  {
   "cell_type": "markdown",
   "id": "09a2e309-ec84-400e-9f03-dbadc67d0c1b",
   "metadata": {},
   "source": [
    "202. Happy Number\n",
    "\n",
    "Write an algorithm to determine if a number n is happy.\n",
    "\n",
    "A happy number is a number defined by the following process:\n",
    "\n",
    "Starting with any positive integer, replace the number by the sum of the squares of its digits.\n",
    "Repeat the process until the number equals 1 (where it will stay), or it loops endlessly in a cycle which does not include 1.\n",
    "Those numbers for which this process ends in 1 are happy.\n",
    "Return true if n is a happy number, and false if not.\n",
    "\n",
    " \n",
    "\n",
    "Example 1:\n",
    "\n",
    "Input: n = 19\n",
    "Output: true\n",
    "Explanation:\n",
    "12 + 92 = 82\n",
    "82 + 22 = 68\n",
    "62 + 82 = 100\n",
    "12 + 02 + 02 = 1\n",
    "Example 2:\n",
    "\n",
    "Input: n = 2\n",
    "Output: false\n",
    " \n",
    "\n",
    "Constraints:\n",
    "\n",
    "1 <= n <= 231 - 1"
   ]
  },
  {
   "cell_type": "code",
   "execution_count": 114,
   "id": "c535f2ff-1ea4-4c63-8caf-b274f0afbbdd",
   "metadata": {
    "tags": []
   },
   "outputs": [],
   "source": [
    "def squaredsumofdigits(n, tmp,seen):\n",
    "    while (n//10): # check if quotient is >=1\n",
    "        tmp = tmp + pow((n%10),2) # take remainder and add its square to this value\n",
    "        n = n//10\n",
    "        #print('Step 1:', tmp)\n",
    "    tmp = tmp + pow((n%10),2)\n",
    "    #print('Step 2:', tmp)\n",
    "    n = tmp\n",
    "    tmp = 0\n",
    "    if (n>1 and n< pow(2,31) - 1) and n not in seen: # check if n=1 or not\n",
    "        seen.add(n)\n",
    "        print(seen)\n",
    "        n = squaredsumofdigits(n,0,seen) # if n>1, then call function again\n",
    "        return n     \n",
    "    elif n == 1: # if n=1, return True\n",
    "        return True\n",
    "    else: # if n<>1 and n>pow(2,31)-1, then return False\n",
    "        return False"
   ]
  },
  {
   "cell_type": "code",
   "execution_count": 94,
   "id": "fda2e6e5-857f-49ca-ab28-e07cb1a3b864",
   "metadata": {
    "tags": []
   },
   "outputs": [],
   "source": [
    "def main(n, tmp=0):\n",
    "    seen = set()\n",
    "    output = squaredsumofdigits(n,0,seen)\n",
    "    return output"
   ]
  },
  {
   "cell_type": "code",
   "execution_count": 119,
   "id": "961811ce-87c7-4906-b20e-802716f09853",
   "metadata": {
    "tags": []
   },
   "outputs": [
    {
     "name": "stdout",
     "output_type": "stream",
     "text": [
      "{49}\n",
      "{49, 97}\n",
      "{49, 130, 97}\n",
      "{49, 130, 10, 97}\n",
      "True\n"
     ]
    }
   ],
   "source": [
    "n=7\n",
    "if __name__ == \"__main__\":  \n",
    "    c = main(n,0)\n",
    "    print(c)"
   ]
  }
 ],
 "metadata": {
  "kernelspec": {
   "display_name": "Python 3 (ipykernel)",
   "language": "python",
   "name": "python3"
  },
  "language_info": {
   "codemirror_mode": {
    "name": "ipython",
    "version": 3
   },
   "file_extension": ".py",
   "mimetype": "text/x-python",
   "name": "python",
   "nbconvert_exporter": "python",
   "pygments_lexer": "ipython3",
   "version": "3.11.5"
  }
 },
 "nbformat": 4,
 "nbformat_minor": 5
}
