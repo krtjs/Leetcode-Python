{
 "cells": [
  {
   "cell_type": "markdown",
   "id": "b78c8fc8-3711-43d6-aa34-ebb511dd37ba",
   "metadata": {},
   "source": [
    "2878. Get the Size of a DataFrame\n",
    "\n",
    "DataFrame players:\n",
    "+-------------+--------+\n",
    "| Column Name | Type   |\n",
    "+-------------+--------+\n",
    "| player_id   | int    |\n",
    "| name        | object |\n",
    "| age         | int    |\n",
    "| position    | object |\n",
    "| ...         | ...    |\n",
    "+-------------+--------+\n",
    "Write a solution to calculate and display the number of rows and columns of players.\n",
    "\n",
    "Return the result as an array:\n",
    "\n",
    "[number of rows, number of columns]\n",
    "\n",
    "The result format is in the following example.\n",
    "\n",
    " \n",
    "\n",
    "Example 1:\n",
    "\n",
    "Input:\n",
    "+-----------+----------+-----+-------------+--------------------+\n",
    "| player_id | name     | age | position    | team               |\n",
    "+-----------+----------+-----+-------------+--------------------+\n",
    "| 846       | Mason    | 21  | Forward     | RealMadrid         |\n",
    "| 749       | Riley    | 30  | Winger      | Barcelona          |\n",
    "| 155       | Bob      | 28  | Striker     | ManchesterUnited   |\n",
    "| 583       | Isabella | 32  | Goalkeeper  | Liverpool          |\n",
    "| 388       | Zachary  | 24  | Midfielder  | BayernMunich       |\n",
    "| 883       | Ava      | 23  | Defender    | Chelsea            |\n",
    "| 355       | Violet   | 18  | Striker     | Juventus           |\n",
    "| 247       | Thomas   | 27  | Striker     | ParisSaint-Germain |\n",
    "| 761       | Jack     | 33  | Midfielder  | ManchesterCity     |\n",
    "| 642       | Charlie  | 36  | Center-back | Arsenal            |\n",
    "+-----------+----------+-----+-------------+--------------------+\n",
    "Output:\n",
    "[10, 5]\n",
    "Explanation:\n",
    "This DataFrame contains 10 rows and 5 columns."
   ]
  },
  {
   "cell_type": "code",
   "execution_count": 2,
   "id": "2bdf3df9-1eb2-498e-a740-37257f5a097c",
   "metadata": {
    "tags": []
   },
   "outputs": [],
   "source": [
    "import pandas as pd\n",
    "\n",
    "players = pd.DataFrame(columns=['player_id','name','age','position','team'])"
   ]
  },
  {
   "cell_type": "code",
   "execution_count": 7,
   "id": "43f4a298-bfe2-4187-b9a9-a3a2431f3f6f",
   "metadata": {
    "tags": []
   },
   "outputs": [],
   "source": [
    "data = {\"player_id\": [846,749,155,583,388,883,355,247,761,642],'name':['Mason','Riley','Bob','Isabella','Zachary','Ava','Violet','Thomas','Jack','Charlie'],\n",
    "        \"age\": [21,30,28,32,24,23,18,27,33,26],'position':['Forward','Winger','Striker','Goalkeeper','Midfielder','Defender','Striker','Striker','Midfielder','Center-back'],\n",
    "        'team':['RealMadrid','Barcelona','ManchesterUnited','Liverpool','BayernMunich','Chelsea','Juventus','ParisSaint-Germain','ManchesterCity','Arsenal']}\n",
    "\n",
    "players = pd.DataFrame(data)\n"
   ]
  },
  {
   "cell_type": "code",
   "execution_count": 8,
   "id": "7779cd38-fea3-4505-903a-a928b92c4a47",
   "metadata": {
    "tags": []
   },
   "outputs": [
    {
     "data": {
      "text/html": [
       "<div>\n",
       "<style scoped>\n",
       "    .dataframe tbody tr th:only-of-type {\n",
       "        vertical-align: middle;\n",
       "    }\n",
       "\n",
       "    .dataframe tbody tr th {\n",
       "        vertical-align: top;\n",
       "    }\n",
       "\n",
       "    .dataframe thead th {\n",
       "        text-align: right;\n",
       "    }\n",
       "</style>\n",
       "<table border=\"1\" class=\"dataframe\">\n",
       "  <thead>\n",
       "    <tr style=\"text-align: right;\">\n",
       "      <th></th>\n",
       "      <th>player_id</th>\n",
       "      <th>name</th>\n",
       "      <th>age</th>\n",
       "      <th>position</th>\n",
       "      <th>team</th>\n",
       "    </tr>\n",
       "  </thead>\n",
       "  <tbody>\n",
       "    <tr>\n",
       "      <th>0</th>\n",
       "      <td>846</td>\n",
       "      <td>Mason</td>\n",
       "      <td>21</td>\n",
       "      <td>Forward</td>\n",
       "      <td>RealMadrid</td>\n",
       "    </tr>\n",
       "    <tr>\n",
       "      <th>1</th>\n",
       "      <td>749</td>\n",
       "      <td>Riley</td>\n",
       "      <td>30</td>\n",
       "      <td>Winger</td>\n",
       "      <td>Barcelona</td>\n",
       "    </tr>\n",
       "    <tr>\n",
       "      <th>2</th>\n",
       "      <td>155</td>\n",
       "      <td>Bob</td>\n",
       "      <td>28</td>\n",
       "      <td>Striker</td>\n",
       "      <td>ManchesterUnited</td>\n",
       "    </tr>\n",
       "    <tr>\n",
       "      <th>3</th>\n",
       "      <td>583</td>\n",
       "      <td>Isabella</td>\n",
       "      <td>32</td>\n",
       "      <td>Goalkeeper</td>\n",
       "      <td>Liverpool</td>\n",
       "    </tr>\n",
       "    <tr>\n",
       "      <th>4</th>\n",
       "      <td>388</td>\n",
       "      <td>Zachary</td>\n",
       "      <td>24</td>\n",
       "      <td>Midfielder</td>\n",
       "      <td>BayernMunich</td>\n",
       "    </tr>\n",
       "    <tr>\n",
       "      <th>5</th>\n",
       "      <td>883</td>\n",
       "      <td>Ava</td>\n",
       "      <td>23</td>\n",
       "      <td>Defender</td>\n",
       "      <td>Chelsea</td>\n",
       "    </tr>\n",
       "    <tr>\n",
       "      <th>6</th>\n",
       "      <td>355</td>\n",
       "      <td>Violet</td>\n",
       "      <td>18</td>\n",
       "      <td>Striker</td>\n",
       "      <td>Juventus</td>\n",
       "    </tr>\n",
       "    <tr>\n",
       "      <th>7</th>\n",
       "      <td>247</td>\n",
       "      <td>Thomas</td>\n",
       "      <td>27</td>\n",
       "      <td>Striker</td>\n",
       "      <td>ParisSaint-Germain</td>\n",
       "    </tr>\n",
       "    <tr>\n",
       "      <th>8</th>\n",
       "      <td>761</td>\n",
       "      <td>Jack</td>\n",
       "      <td>33</td>\n",
       "      <td>Midfielder</td>\n",
       "      <td>ManchesterCity</td>\n",
       "    </tr>\n",
       "    <tr>\n",
       "      <th>9</th>\n",
       "      <td>642</td>\n",
       "      <td>Charlie</td>\n",
       "      <td>26</td>\n",
       "      <td>Center-back</td>\n",
       "      <td>Arsenal</td>\n",
       "    </tr>\n",
       "  </tbody>\n",
       "</table>\n",
       "</div>"
      ],
      "text/plain": [
       "   player_id      name  age     position                team\n",
       "0        846     Mason   21      Forward          RealMadrid\n",
       "1        749     Riley   30       Winger           Barcelona\n",
       "2        155       Bob   28      Striker    ManchesterUnited\n",
       "3        583  Isabella   32   Goalkeeper           Liverpool\n",
       "4        388   Zachary   24   Midfielder        BayernMunich\n",
       "5        883       Ava   23     Defender             Chelsea\n",
       "6        355    Violet   18      Striker            Juventus\n",
       "7        247    Thomas   27      Striker  ParisSaint-Germain\n",
       "8        761      Jack   33   Midfielder      ManchesterCity\n",
       "9        642   Charlie   26  Center-back             Arsenal"
      ]
     },
     "execution_count": 8,
     "metadata": {},
     "output_type": "execute_result"
    }
   ],
   "source": [
    "players"
   ]
  },
  {
   "cell_type": "code",
   "execution_count": 10,
   "id": "07db85f1-c456-4a1e-ba4e-b0534bb86202",
   "metadata": {
    "tags": []
   },
   "outputs": [
    {
     "name": "stdout",
     "output_type": "stream",
     "text": [
      "rows= 10 columns= 5\n"
     ]
    }
   ],
   "source": [
    "print(\"rows=\",players.shape[0],\"columns=\",players.shape[1])"
   ]
  }
 ],
 "metadata": {
  "kernelspec": {
   "display_name": "Python 3 (ipykernel)",
   "language": "python",
   "name": "python3"
  },
  "language_info": {
   "codemirror_mode": {
    "name": "ipython",
    "version": 3
   },
   "file_extension": ".py",
   "mimetype": "text/x-python",
   "name": "python",
   "nbconvert_exporter": "python",
   "pygments_lexer": "ipython3",
   "version": "3.11.5"
  }
 },
 "nbformat": 4,
 "nbformat_minor": 5
}
