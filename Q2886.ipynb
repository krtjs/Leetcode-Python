{
 "cells": [
  {
   "cell_type": "raw",
   "id": "d02fd569-3b27-4348-856f-9a1786309672",
   "metadata": {},
   "source": [
    "2886. Change Data Type\n",
    "\n",
    "DataFrame students\n",
    "+-------------+--------+\n",
    "| Column Name | Type   |\n",
    "+-------------+--------+\n",
    "| student_id  | int    |\n",
    "| name        | object |\n",
    "| age         | int    |\n",
    "| grade       | float  |\n",
    "+-------------+--------+\n",
    "Write a solution to correct the errors:\n",
    "\n",
    "The grade column is stored as floats, convert it to integers.\n",
    "\n",
    "The result format is in the following example.\n",
    "\n",
    " \n",
    "\n",
    "Example 1:\n",
    "Input:\n",
    "DataFrame students:\n",
    "+------------+------+-----+-------+\n",
    "| student_id | name | age | grade |\n",
    "+------------+------+-----+-------+\n",
    "| 1          | Ava  | 6   | 73.0  |\n",
    "| 2          | Kate | 15  | 87.0  |\n",
    "+------------+------+-----+-------+\n",
    "Output:\n",
    "+------------+------+-----+-------+\n",
    "| student_id | name | age | grade |\n",
    "+------------+------+-----+-------+\n",
    "| 1          | Ava  | 6   | 73    |\n",
    "| 2          | Kate | 15  | 87    |\n",
    "+------------+------+-----+-------+\n",
    "Explanation: \n",
    "The data types of the column grade is converted to int."
   ]
  },
  {
   "cell_type": "code",
   "execution_count": 1,
   "id": "7c051db7-a003-4f71-8959-0e5616e92753",
   "metadata": {
    "tags": []
   },
   "outputs": [],
   "source": [
    "import pandas as pd"
   ]
  },
  {
   "cell_type": "code",
   "execution_count": 2,
   "id": "5ec15d86-690d-4015-901c-8801c705d482",
   "metadata": {
    "tags": []
   },
   "outputs": [],
   "source": [
    "data = {\"student_id\":[1,2], \"name\":['Ava','Kate'], \"age\":[6,15],\"grade\":[73.0,87.0]}"
   ]
  },
  {
   "cell_type": "code",
   "execution_count": 4,
   "id": "3309497d-86cb-4d6f-aaba-e25d200e4204",
   "metadata": {
    "tags": []
   },
   "outputs": [
    {
     "data": {
      "text/html": [
       "<div>\n",
       "<style scoped>\n",
       "    .dataframe tbody tr th:only-of-type {\n",
       "        vertical-align: middle;\n",
       "    }\n",
       "\n",
       "    .dataframe tbody tr th {\n",
       "        vertical-align: top;\n",
       "    }\n",
       "\n",
       "    .dataframe thead th {\n",
       "        text-align: right;\n",
       "    }\n",
       "</style>\n",
       "<table border=\"1\" class=\"dataframe\">\n",
       "  <thead>\n",
       "    <tr style=\"text-align: right;\">\n",
       "      <th></th>\n",
       "      <th>student_id</th>\n",
       "      <th>name</th>\n",
       "      <th>age</th>\n",
       "      <th>grade</th>\n",
       "    </tr>\n",
       "  </thead>\n",
       "  <tbody>\n",
       "    <tr>\n",
       "      <th>0</th>\n",
       "      <td>1</td>\n",
       "      <td>Ava</td>\n",
       "      <td>6</td>\n",
       "      <td>73.0</td>\n",
       "    </tr>\n",
       "    <tr>\n",
       "      <th>1</th>\n",
       "      <td>2</td>\n",
       "      <td>Kate</td>\n",
       "      <td>15</td>\n",
       "      <td>87.0</td>\n",
       "    </tr>\n",
       "  </tbody>\n",
       "</table>\n",
       "</div>"
      ],
      "text/plain": [
       "   student_id  name  age  grade\n",
       "0           1   Ava    6   73.0\n",
       "1           2  Kate   15   87.0"
      ]
     },
     "execution_count": 4,
     "metadata": {},
     "output_type": "execute_result"
    }
   ],
   "source": [
    "students = pd.DataFrame(data)\n",
    "students"
   ]
  },
  {
   "cell_type": "code",
   "execution_count": 5,
   "id": "ddc6071d-5a69-4a5a-ae99-413cd2a4386f",
   "metadata": {
    "tags": []
   },
   "outputs": [
    {
     "name": "stdout",
     "output_type": "stream",
     "text": [
      "<class 'pandas.core.frame.DataFrame'>\n",
      "RangeIndex: 2 entries, 0 to 1\n",
      "Data columns (total 4 columns):\n",
      " #   Column      Non-Null Count  Dtype  \n",
      "---  ------      --------------  -----  \n",
      " 0   student_id  2 non-null      int64  \n",
      " 1   name        2 non-null      object \n",
      " 2   age         2 non-null      int64  \n",
      " 3   grade       2 non-null      float64\n",
      "dtypes: float64(1), int64(2), object(1)\n",
      "memory usage: 196.0+ bytes\n"
     ]
    }
   ],
   "source": [
    "students.info()"
   ]
  },
  {
   "cell_type": "code",
   "execution_count": 8,
   "id": "7f0a49ff-5253-447a-b2ca-db42d1efd435",
   "metadata": {
    "tags": []
   },
   "outputs": [],
   "source": [
    "students[\"grade\"] = students[\"grade\"].astype(int)"
   ]
  },
  {
   "cell_type": "code",
   "execution_count": 9,
   "id": "1602675f-8e98-44a9-add7-47f6ac911b22",
   "metadata": {
    "tags": []
   },
   "outputs": [
    {
     "name": "stdout",
     "output_type": "stream",
     "text": [
      "<class 'pandas.core.frame.DataFrame'>\n",
      "RangeIndex: 2 entries, 0 to 1\n",
      "Data columns (total 4 columns):\n",
      " #   Column      Non-Null Count  Dtype \n",
      "---  ------      --------------  ----- \n",
      " 0   student_id  2 non-null      int64 \n",
      " 1   name        2 non-null      object\n",
      " 2   age         2 non-null      int64 \n",
      " 3   grade       2 non-null      int32 \n",
      "dtypes: int32(1), int64(2), object(1)\n",
      "memory usage: 188.0+ bytes\n"
     ]
    }
   ],
   "source": [
    "students.info()"
   ]
  }
 ],
 "metadata": {
  "kernelspec": {
   "display_name": "Python 3 (ipykernel)",
   "language": "python",
   "name": "python3"
  },
  "language_info": {
   "codemirror_mode": {
    "name": "ipython",
    "version": 3
   },
   "file_extension": ".py",
   "mimetype": "text/x-python",
   "name": "python",
   "nbconvert_exporter": "python",
   "pygments_lexer": "ipython3",
   "version": "3.11.5"
  }
 },
 "nbformat": 4,
 "nbformat_minor": 5
}
