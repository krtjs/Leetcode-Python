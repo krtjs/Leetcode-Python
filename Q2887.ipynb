{
 "cells": [
  {
   "cell_type": "raw",
   "id": "81b7c078-4d49-4371-a0f8-4f093c3fbcc3",
   "metadata": {},
   "source": [
    "2887. Fill Missing Data\n",
    "\n",
    "DataFrame products\n",
    "+-------------+--------+\n",
    "| Column Name | Type   |\n",
    "+-------------+--------+\n",
    "| name        | object |\n",
    "| quantity    | int    |\n",
    "| price       | int    |\n",
    "+-------------+--------+\n",
    "Write a solution to fill in the missing value as 0 in the quantity column.\n",
    "\n",
    "The result format is in the following example.\n",
    "\n",
    " \n",
    "\n",
    "Example 1:\n",
    "Input:+-----------------+----------+-------+\n",
    "| name            | quantity | price |\n",
    "+-----------------+----------+-------+\n",
    "| Wristwatch      | None     | 135   |\n",
    "| WirelessEarbuds | None     | 821   |\n",
    "| GolfClubs       | 779      | 9319  |\n",
    "| Printer         | 849      | 3051  |\n",
    "+-----------------+----------+-------+\n",
    "Output:\n",
    "+-----------------+----------+-------+\n",
    "| name            | quantity | price |\n",
    "+-----------------+----------+-------+\n",
    "| Wristwatch      | 0        | 135   |\n",
    "| WirelessEarbuds | 0        | 821   |\n",
    "| GolfClubs       | 779      | 9319  |\n",
    "| Printer         | 849      | 3051  |\n",
    "+-----------------+----------+-------+\n",
    "Explanation: \n",
    "The quantity for Wristwatch and WirelessEarbuds are filled by 0."
   ]
  },
  {
   "cell_type": "code",
   "execution_count": 1,
   "id": "d7fd5837-3abc-47ea-b46b-6b056e0e733d",
   "metadata": {
    "tags": []
   },
   "outputs": [],
   "source": [
    "import pandas as pd"
   ]
  },
  {
   "cell_type": "code",
   "execution_count": 2,
   "id": "8e7a0f88-4fd6-425a-810a-eaff85bf1e42",
   "metadata": {
    "tags": []
   },
   "outputs": [],
   "source": [
    "data = {\"name\":[\"Wristwatch\",\"WirelessEarbuds\",\"GolfClubs\",\"Printer\"] , \"quantity\":[None, None, 779,849], \"price\":[135,821,9319,3051]}"
   ]
  },
  {
   "cell_type": "code",
   "execution_count": 3,
   "id": "9079d634-2aa1-4e1c-a6a0-ee681b4d7395",
   "metadata": {
    "tags": []
   },
   "outputs": [
    {
     "data": {
      "text/html": [
       "<div>\n",
       "<style scoped>\n",
       "    .dataframe tbody tr th:only-of-type {\n",
       "        vertical-align: middle;\n",
       "    }\n",
       "\n",
       "    .dataframe tbody tr th {\n",
       "        vertical-align: top;\n",
       "    }\n",
       "\n",
       "    .dataframe thead th {\n",
       "        text-align: right;\n",
       "    }\n",
       "</style>\n",
       "<table border=\"1\" class=\"dataframe\">\n",
       "  <thead>\n",
       "    <tr style=\"text-align: right;\">\n",
       "      <th></th>\n",
       "      <th>name</th>\n",
       "      <th>quantity</th>\n",
       "      <th>price</th>\n",
       "    </tr>\n",
       "  </thead>\n",
       "  <tbody>\n",
       "    <tr>\n",
       "      <th>0</th>\n",
       "      <td>Wristwatch</td>\n",
       "      <td>NaN</td>\n",
       "      <td>135</td>\n",
       "    </tr>\n",
       "    <tr>\n",
       "      <th>1</th>\n",
       "      <td>WirelessEarbuds</td>\n",
       "      <td>NaN</td>\n",
       "      <td>821</td>\n",
       "    </tr>\n",
       "    <tr>\n",
       "      <th>2</th>\n",
       "      <td>GolfClubs</td>\n",
       "      <td>779.0</td>\n",
       "      <td>9319</td>\n",
       "    </tr>\n",
       "    <tr>\n",
       "      <th>3</th>\n",
       "      <td>Printer</td>\n",
       "      <td>849.0</td>\n",
       "      <td>3051</td>\n",
       "    </tr>\n",
       "  </tbody>\n",
       "</table>\n",
       "</div>"
      ],
      "text/plain": [
       "              name  quantity  price\n",
       "0       Wristwatch       NaN    135\n",
       "1  WirelessEarbuds       NaN    821\n",
       "2        GolfClubs     779.0   9319\n",
       "3          Printer     849.0   3051"
      ]
     },
     "execution_count": 3,
     "metadata": {},
     "output_type": "execute_result"
    }
   ],
   "source": [
    "products = pd.DataFrame(data)\n",
    "\n",
    "products"
   ]
  },
  {
   "cell_type": "code",
   "execution_count": 4,
   "id": "b4f7c312-057e-451a-adca-91f6343664de",
   "metadata": {
    "tags": []
   },
   "outputs": [],
   "source": [
    "products[\"quantity\"] = products[\"quantity\"].fillna(0)"
   ]
  },
  {
   "cell_type": "code",
   "execution_count": 5,
   "id": "c8b1dd99-2934-40d7-9df6-fe5991dbc99d",
   "metadata": {
    "tags": []
   },
   "outputs": [
    {
     "data": {
      "text/html": [
       "<div>\n",
       "<style scoped>\n",
       "    .dataframe tbody tr th:only-of-type {\n",
       "        vertical-align: middle;\n",
       "    }\n",
       "\n",
       "    .dataframe tbody tr th {\n",
       "        vertical-align: top;\n",
       "    }\n",
       "\n",
       "    .dataframe thead th {\n",
       "        text-align: right;\n",
       "    }\n",
       "</style>\n",
       "<table border=\"1\" class=\"dataframe\">\n",
       "  <thead>\n",
       "    <tr style=\"text-align: right;\">\n",
       "      <th></th>\n",
       "      <th>name</th>\n",
       "      <th>quantity</th>\n",
       "      <th>price</th>\n",
       "    </tr>\n",
       "  </thead>\n",
       "  <tbody>\n",
       "    <tr>\n",
       "      <th>0</th>\n",
       "      <td>Wristwatch</td>\n",
       "      <td>0.0</td>\n",
       "      <td>135</td>\n",
       "    </tr>\n",
       "    <tr>\n",
       "      <th>1</th>\n",
       "      <td>WirelessEarbuds</td>\n",
       "      <td>0.0</td>\n",
       "      <td>821</td>\n",
       "    </tr>\n",
       "    <tr>\n",
       "      <th>2</th>\n",
       "      <td>GolfClubs</td>\n",
       "      <td>779.0</td>\n",
       "      <td>9319</td>\n",
       "    </tr>\n",
       "    <tr>\n",
       "      <th>3</th>\n",
       "      <td>Printer</td>\n",
       "      <td>849.0</td>\n",
       "      <td>3051</td>\n",
       "    </tr>\n",
       "  </tbody>\n",
       "</table>\n",
       "</div>"
      ],
      "text/plain": [
       "              name  quantity  price\n",
       "0       Wristwatch       0.0    135\n",
       "1  WirelessEarbuds       0.0    821\n",
       "2        GolfClubs     779.0   9319\n",
       "3          Printer     849.0   3051"
      ]
     },
     "execution_count": 5,
     "metadata": {},
     "output_type": "execute_result"
    }
   ],
   "source": [
    "products"
   ]
  }
 ],
 "metadata": {
  "kernelspec": {
   "display_name": "Python 3 (ipykernel)",
   "language": "python",
   "name": "python3"
  },
  "language_info": {
   "codemirror_mode": {
    "name": "ipython",
    "version": 3
   },
   "file_extension": ".py",
   "mimetype": "text/x-python",
   "name": "python",
   "nbconvert_exporter": "python",
   "pygments_lexer": "ipython3",
   "version": "3.11.5"
  }
 },
 "nbformat": 4,
 "nbformat_minor": 5
}
