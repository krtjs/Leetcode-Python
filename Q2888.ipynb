{
 "cells": [
  {
   "cell_type": "markdown",
   "id": "9720c7df-5194-415b-a14c-8f85a48e9737",
   "metadata": {},
   "source": [
    "2888. Reshape Data: Concatenate\n",
    "\n",
    "DataFrame df1\n",
    "+-------------+--------+\n",
    "| Column Name | Type   |\n",
    "+-------------+--------+\n",
    "| student_id  | int    |\n",
    "| name        | object |\n",
    "| age         | int    |\n",
    "+-------------+--------+\n",
    "\n",
    "DataFrame df2\n",
    "+-------------+--------+\n",
    "| Column Name | Type   |\n",
    "+-------------+--------+\n",
    "| student_id  | int    |\n",
    "| name        | object |\n",
    "| age         | int    |\n",
    "+-------------+--------+\n",
    "\n",
    "Write a solution to concatenate these two DataFrames vertically into one DataFrame.\n",
    "\n",
    "The result format is in the following example.\n",
    "\n",
    " \n",
    "\n",
    "Example 1:\n",
    "\n",
    "Input:\n",
    "df1\n",
    "+------------+---------+-----+\n",
    "| student_id | name    | age |\n",
    "+------------+---------+-----+\n",
    "| 1          | Mason   | 8   |\n",
    "| 2          | Ava     | 6   |\n",
    "| 3          | Taylor  | 15  |\n",
    "| 4          | Georgia | 17  |\n",
    "+------------+---------+-----+\n",
    "df2\n",
    "+------------+------+-----+\n",
    "| student_id | name | age |\n",
    "+------------+------+-----+\n",
    "| 5          | Leo  | 7   |\n",
    "| 6          | Alex | 7   |\n",
    "+------------+------+-----+\n",
    "Output:\n",
    "+------------+---------+-----+\n",
    "| student_id | name    | age |\n",
    "+------------+---------+-----+\n",
    "| 1          | Mason   | 8   |\n",
    "| 2          | Ava     | 6   |\n",
    "| 3          | Taylor  | 15  |\n",
    "| 4          | Georgia | 17  |\n",
    "| 5          | Leo     | 7   |\n",
    "| 6          | Alex    | 7   |\n",
    "+------------+---------+-----+\n",
    "Explanation:\n",
    "The two DataFramess are stacked vertically, and their rows are combined."
   ]
  },
  {
   "cell_type": "code",
   "execution_count": 1,
   "id": "39685873-4518-4f77-b5e3-953dc4aa148d",
   "metadata": {
    "tags": []
   },
   "outputs": [],
   "source": [
    "import pandas as pd"
   ]
  },
  {
   "cell_type": "code",
   "execution_count": 2,
   "id": "d1370365-56ee-43dd-9d60-a3f9d00ce9aa",
   "metadata": {
    "tags": []
   },
   "outputs": [],
   "source": [
    "data = {\"student_id\":[1,2,3,4], \"name\":[\"Mason\", \"Ava\", \"Taylor\", \"Georgia\"], \"age\":[8,6,15,17]}"
   ]
  },
  {
   "cell_type": "code",
   "execution_count": 3,
   "id": "8492b9bf-4b70-43d4-913a-a4a3aa404f8d",
   "metadata": {
    "tags": []
   },
   "outputs": [
    {
     "data": {
      "text/html": [
       "<div>\n",
       "<style scoped>\n",
       "    .dataframe tbody tr th:only-of-type {\n",
       "        vertical-align: middle;\n",
       "    }\n",
       "\n",
       "    .dataframe tbody tr th {\n",
       "        vertical-align: top;\n",
       "    }\n",
       "\n",
       "    .dataframe thead th {\n",
       "        text-align: right;\n",
       "    }\n",
       "</style>\n",
       "<table border=\"1\" class=\"dataframe\">\n",
       "  <thead>\n",
       "    <tr style=\"text-align: right;\">\n",
       "      <th></th>\n",
       "      <th>student_id</th>\n",
       "      <th>name</th>\n",
       "      <th>age</th>\n",
       "    </tr>\n",
       "  </thead>\n",
       "  <tbody>\n",
       "    <tr>\n",
       "      <th>0</th>\n",
       "      <td>1</td>\n",
       "      <td>Mason</td>\n",
       "      <td>8</td>\n",
       "    </tr>\n",
       "    <tr>\n",
       "      <th>1</th>\n",
       "      <td>2</td>\n",
       "      <td>Ava</td>\n",
       "      <td>6</td>\n",
       "    </tr>\n",
       "    <tr>\n",
       "      <th>2</th>\n",
       "      <td>3</td>\n",
       "      <td>Taylor</td>\n",
       "      <td>15</td>\n",
       "    </tr>\n",
       "    <tr>\n",
       "      <th>3</th>\n",
       "      <td>4</td>\n",
       "      <td>Georgia</td>\n",
       "      <td>17</td>\n",
       "    </tr>\n",
       "  </tbody>\n",
       "</table>\n",
       "</div>"
      ],
      "text/plain": [
       "   student_id     name  age\n",
       "0           1    Mason    8\n",
       "1           2      Ava    6\n",
       "2           3   Taylor   15\n",
       "3           4  Georgia   17"
      ]
     },
     "execution_count": 3,
     "metadata": {},
     "output_type": "execute_result"
    }
   ],
   "source": [
    "df1 = pd.DataFrame(data)\n",
    "\n",
    "df1"
   ]
  },
  {
   "cell_type": "code",
   "execution_count": 4,
   "id": "95cdaf56-2eec-4f0d-8ba5-fd105a4ab2b2",
   "metadata": {
    "tags": []
   },
   "outputs": [],
   "source": [
    "data = {\"student_id\":[5,6], \"name\":[\"Leo\", \"Alex\"], \"age\":[7,7]}"
   ]
  },
  {
   "cell_type": "code",
   "execution_count": 5,
   "id": "0fe7198c-ad83-4f3f-a10c-ebeab21ef1a6",
   "metadata": {
    "tags": []
   },
   "outputs": [
    {
     "data": {
      "text/html": [
       "<div>\n",
       "<style scoped>\n",
       "    .dataframe tbody tr th:only-of-type {\n",
       "        vertical-align: middle;\n",
       "    }\n",
       "\n",
       "    .dataframe tbody tr th {\n",
       "        vertical-align: top;\n",
       "    }\n",
       "\n",
       "    .dataframe thead th {\n",
       "        text-align: right;\n",
       "    }\n",
       "</style>\n",
       "<table border=\"1\" class=\"dataframe\">\n",
       "  <thead>\n",
       "    <tr style=\"text-align: right;\">\n",
       "      <th></th>\n",
       "      <th>student_id</th>\n",
       "      <th>name</th>\n",
       "      <th>age</th>\n",
       "    </tr>\n",
       "  </thead>\n",
       "  <tbody>\n",
       "    <tr>\n",
       "      <th>0</th>\n",
       "      <td>5</td>\n",
       "      <td>Leo</td>\n",
       "      <td>7</td>\n",
       "    </tr>\n",
       "    <tr>\n",
       "      <th>1</th>\n",
       "      <td>6</td>\n",
       "      <td>Alex</td>\n",
       "      <td>7</td>\n",
       "    </tr>\n",
       "  </tbody>\n",
       "</table>\n",
       "</div>"
      ],
      "text/plain": [
       "   student_id  name  age\n",
       "0           5   Leo    7\n",
       "1           6  Alex    7"
      ]
     },
     "execution_count": 5,
     "metadata": {},
     "output_type": "execute_result"
    }
   ],
   "source": [
    "df2 = pd.DataFrame(data)\n",
    "\n",
    "df2"
   ]
  },
  {
   "cell_type": "code",
   "execution_count": 16,
   "id": "c5d37118-1628-4aeb-a47c-530cc5d0ad07",
   "metadata": {
    "tags": []
   },
   "outputs": [],
   "source": [
    "output = pd.concat([df1,df2], ignore_index=True)"
   ]
  },
  {
   "cell_type": "code",
   "execution_count": 17,
   "id": "25012ecd-909b-48c4-bc2d-9ccfeb8852d2",
   "metadata": {
    "tags": []
   },
   "outputs": [
    {
     "data": {
      "text/html": [
       "<div>\n",
       "<style scoped>\n",
       "    .dataframe tbody tr th:only-of-type {\n",
       "        vertical-align: middle;\n",
       "    }\n",
       "\n",
       "    .dataframe tbody tr th {\n",
       "        vertical-align: top;\n",
       "    }\n",
       "\n",
       "    .dataframe thead th {\n",
       "        text-align: right;\n",
       "    }\n",
       "</style>\n",
       "<table border=\"1\" class=\"dataframe\">\n",
       "  <thead>\n",
       "    <tr style=\"text-align: right;\">\n",
       "      <th></th>\n",
       "      <th>student_id</th>\n",
       "      <th>name</th>\n",
       "      <th>age</th>\n",
       "    </tr>\n",
       "  </thead>\n",
       "  <tbody>\n",
       "    <tr>\n",
       "      <th>0</th>\n",
       "      <td>1</td>\n",
       "      <td>Mason</td>\n",
       "      <td>8</td>\n",
       "    </tr>\n",
       "    <tr>\n",
       "      <th>1</th>\n",
       "      <td>2</td>\n",
       "      <td>Ava</td>\n",
       "      <td>6</td>\n",
       "    </tr>\n",
       "    <tr>\n",
       "      <th>2</th>\n",
       "      <td>3</td>\n",
       "      <td>Taylor</td>\n",
       "      <td>15</td>\n",
       "    </tr>\n",
       "    <tr>\n",
       "      <th>3</th>\n",
       "      <td>4</td>\n",
       "      <td>Georgia</td>\n",
       "      <td>17</td>\n",
       "    </tr>\n",
       "    <tr>\n",
       "      <th>4</th>\n",
       "      <td>5</td>\n",
       "      <td>Leo</td>\n",
       "      <td>7</td>\n",
       "    </tr>\n",
       "    <tr>\n",
       "      <th>5</th>\n",
       "      <td>6</td>\n",
       "      <td>Alex</td>\n",
       "      <td>7</td>\n",
       "    </tr>\n",
       "  </tbody>\n",
       "</table>\n",
       "</div>"
      ],
      "text/plain": [
       "   student_id     name  age\n",
       "0           1    Mason    8\n",
       "1           2      Ava    6\n",
       "2           3   Taylor   15\n",
       "3           4  Georgia   17\n",
       "4           5      Leo    7\n",
       "5           6     Alex    7"
      ]
     },
     "execution_count": 17,
     "metadata": {},
     "output_type": "execute_result"
    }
   ],
   "source": [
    "output"
   ]
  }
 ],
 "metadata": {
  "kernelspec": {
   "display_name": "Python 3 (ipykernel)",
   "language": "python",
   "name": "python3"
  },
  "language_info": {
   "codemirror_mode": {
    "name": "ipython",
    "version": 3
   },
   "file_extension": ".py",
   "mimetype": "text/x-python",
   "name": "python",
   "nbconvert_exporter": "python",
   "pygments_lexer": "ipython3",
   "version": "3.11.5"
  }
 },
 "nbformat": 4,
 "nbformat_minor": 5
}
