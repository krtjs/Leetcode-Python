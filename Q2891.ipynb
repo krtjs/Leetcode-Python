{
 "cells": [
  {
   "cell_type": "raw",
   "id": "cbdc1e02-054b-4930-9e8a-8b90d7708162",
   "metadata": {},
   "source": [
    "2891. Method Chaining\n",
    "\n",
    "DataFrame animals\n",
    "+-------------+--------+\n",
    "| Column Name | Type   |\n",
    "+-------------+--------+\n",
    "| name        | object |\n",
    "| species     | object |\n",
    "| age         | int    |\n",
    "| weight      | int    |\n",
    "+-------------+--------+\n",
    "Write a solution to list the names of animals that weigh strictly more than 100 kilograms.\n",
    "\n",
    "Return the animals sorted by weight in descending order.\n",
    "\n",
    "The result format is in the following example.\n",
    "\n",
    " \n",
    "\n",
    "Example 1:\n",
    "\n",
    "Input: \n",
    "DataFrame animals:\n",
    "+----------+---------+-----+--------+\n",
    "| name     | species | age | weight |\n",
    "+----------+---------+-----+--------+\n",
    "| Tatiana  | Snake   | 98  | 464    |\n",
    "| Khaled   | Giraffe | 50  | 41     |\n",
    "| Alex     | Leopard | 6   | 328    |\n",
    "| Jonathan | Monkey  | 45  | 463    |\n",
    "| Stefan   | Bear    | 100 | 50     |\n",
    "| Tommy    | Panda   | 26  | 349    |\n",
    "+----------+---------+-----+--------+\n",
    "Output: \n",
    "+----------+\n",
    "| name     |\n",
    "+----------+\n",
    "| Tatiana  |\n",
    "| Jonathan |\n",
    "| Tommy    |\n",
    "| Alex     |\n",
    "+----------+\n",
    "Explanation: \n",
    "All animals weighing more than 100 should be included in the results table.\n",
    "Tatiana's weight is 464, Jonathan's weight is 463, Tommy's weight is 349, and Alex's weight is 328.\n",
    "The results should be sorted in descending order of weight.\n",
    " \n",
    "\n",
    "In Pandas, method chaining enables us to perform operations on a DataFrame without breaking up each operation into a separate line or creating multiple temporary variables. \n",
    "\n",
    "Can you complete this task in just one line of code using method chaining?"
   ]
  },
  {
   "cell_type": "code",
   "execution_count": 1,
   "id": "3ae868e0-2147-42fb-9ca2-647c19a4bb2d",
   "metadata": {
    "tags": []
   },
   "outputs": [],
   "source": [
    "import pandas as pd"
   ]
  },
  {
   "cell_type": "code",
   "execution_count": 3,
   "id": "3e70bf06-fd4b-4b1e-a328-e4824ae17fc4",
   "metadata": {
    "tags": []
   },
   "outputs": [],
   "source": [
    "data = {\"name\":[\"Tatiana\",\"Khaled\",\"Alex\",\"Jonathan\",\"Stefan\",\"Tommy\"], \"species\":[\"Snake\",\"Giraffe\",\"Leopard\",\"Monkey\",\"Bear\",\"Panda\"], \"age\":[98,50,6,45,100,26],\n",
    "       \"weight\":[464,41,328,463,50,349]}"
   ]
  },
  {
   "cell_type": "code",
   "execution_count": 5,
   "id": "7f74531d-8980-4b4a-9999-d7ee639fe273",
   "metadata": {
    "tags": []
   },
   "outputs": [
    {
     "data": {
      "text/html": [
       "<div>\n",
       "<style scoped>\n",
       "    .dataframe tbody tr th:only-of-type {\n",
       "        vertical-align: middle;\n",
       "    }\n",
       "\n",
       "    .dataframe tbody tr th {\n",
       "        vertical-align: top;\n",
       "    }\n",
       "\n",
       "    .dataframe thead th {\n",
       "        text-align: right;\n",
       "    }\n",
       "</style>\n",
       "<table border=\"1\" class=\"dataframe\">\n",
       "  <thead>\n",
       "    <tr style=\"text-align: right;\">\n",
       "      <th></th>\n",
       "      <th>name</th>\n",
       "      <th>species</th>\n",
       "      <th>age</th>\n",
       "      <th>weight</th>\n",
       "    </tr>\n",
       "  </thead>\n",
       "  <tbody>\n",
       "    <tr>\n",
       "      <th>0</th>\n",
       "      <td>Tatiana</td>\n",
       "      <td>Snake</td>\n",
       "      <td>98</td>\n",
       "      <td>464</td>\n",
       "    </tr>\n",
       "    <tr>\n",
       "      <th>1</th>\n",
       "      <td>Khaled</td>\n",
       "      <td>Giraffe</td>\n",
       "      <td>50</td>\n",
       "      <td>41</td>\n",
       "    </tr>\n",
       "    <tr>\n",
       "      <th>2</th>\n",
       "      <td>Alex</td>\n",
       "      <td>Leopard</td>\n",
       "      <td>6</td>\n",
       "      <td>328</td>\n",
       "    </tr>\n",
       "    <tr>\n",
       "      <th>3</th>\n",
       "      <td>Jonathan</td>\n",
       "      <td>Monkey</td>\n",
       "      <td>45</td>\n",
       "      <td>463</td>\n",
       "    </tr>\n",
       "    <tr>\n",
       "      <th>4</th>\n",
       "      <td>Stefan</td>\n",
       "      <td>Bear</td>\n",
       "      <td>100</td>\n",
       "      <td>50</td>\n",
       "    </tr>\n",
       "    <tr>\n",
       "      <th>5</th>\n",
       "      <td>Tommy</td>\n",
       "      <td>Panda</td>\n",
       "      <td>26</td>\n",
       "      <td>349</td>\n",
       "    </tr>\n",
       "  </tbody>\n",
       "</table>\n",
       "</div>"
      ],
      "text/plain": [
       "       name  species  age  weight\n",
       "0   Tatiana    Snake   98     464\n",
       "1    Khaled  Giraffe   50      41\n",
       "2      Alex  Leopard    6     328\n",
       "3  Jonathan   Monkey   45     463\n",
       "4    Stefan     Bear  100      50\n",
       "5     Tommy    Panda   26     349"
      ]
     },
     "execution_count": 5,
     "metadata": {},
     "output_type": "execute_result"
    }
   ],
   "source": [
    "animals = pd.DataFrame(data)\n",
    "\n",
    "animals"
   ]
  },
  {
   "cell_type": "code",
   "execution_count": 12,
   "id": "6f5ae6f1-33b1-49d5-83c0-e138e5f8f812",
   "metadata": {
    "tags": []
   },
   "outputs": [
    {
     "data": {
      "text/plain": [
       "0     Tatiana\n",
       "3    Jonathan\n",
       "5       Tommy\n",
       "2        Alex\n",
       "Name: name, dtype: object"
      ]
     },
     "execution_count": 12,
     "metadata": {},
     "output_type": "execute_result"
    }
   ],
   "source": [
    "pd.DataFrame(animals[animals[\"weight\"]>100].sort_values(\"weight\", ascending=False)[\"name\"])"
   ]
  }
 ],
 "metadata": {
  "kernelspec": {
   "display_name": "Python 3 (ipykernel)",
   "language": "python",
   "name": "python3"
  },
  "language_info": {
   "codemirror_mode": {
    "name": "ipython",
    "version": 3
   },
   "file_extension": ".py",
   "mimetype": "text/x-python",
   "name": "python",
   "nbconvert_exporter": "python",
   "pygments_lexer": "ipython3",
   "version": "3.11.5"
  }
 },
 "nbformat": 4,
 "nbformat_minor": 5
}
