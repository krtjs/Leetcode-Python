{
 "cells": [
  {
   "cell_type": "markdown",
   "id": "02b23e11-fd63-4152-8a4c-34facaf28ae0",
   "metadata": {},
   "source": [
    "80. Remove Duplicates from Sorted Array II\n",
    "\n",
    "Given an integer array nums sorted in non-decreasing order, remove some duplicates in-place such that each unique element appears at most twice. The relative order of the elements should be kept the same.\n",
    "\n",
    "Since it is impossible to change the length of the array in some languages, you must instead have the result be placed in the first part of the array nums. More formally, if there are k elements after removing the duplicates, then the first k elements of nums should hold the final result. It does not matter what you leave beyond the first k elements.\n",
    "\n",
    "Return k after placing the final result in the first k slots of nums.\n",
    "\n",
    "Do not allocate extra space for another array. You must do this by modifying the input array in-place with O(1) extra memory.\n",
    "\n",
    "Custom Judge:\n",
    "\n",
    "The judge will test your solution with the following code:\n",
    "\n",
    "int[] nums = [...]; // Input array\n",
    "int[] expectedNums = [...]; // The expected answer with correct length\n",
    "\n",
    "int k = removeDuplicates(nums); // Calls your implementation\n",
    "\n",
    "assert k == expectedNums.length;\n",
    "for (int i = 0; i < k; i++) {\n",
    "    assert nums[i] == expectedNums[i];\n",
    "}\n",
    "If all assertions pass, then your solution will be accepted.\n",
    "\n",
    " \n",
    "\n",
    "Example 1:\n",
    "\n",
    "Input: nums = [1,1,1,2,2,3]\n",
    "Output: 5, nums = [1,1,2,2,3,_]\n",
    "Explanation: Your function should return k = 5, with the first five elements of nums being 1, 1, 2, 2 and 3 respectively.\n",
    "It does not matter what you leave beyond the returned k (hence they are underscores).\n",
    "Example 2:\n",
    "\n",
    "Input: nums = [0,0,1,1,1,1,2,3,3]\n",
    "Output: 7, nums = [0,0,1,1,2,3,3,_,_]\n",
    "Explanation: Your function should return k = 7, with the first seven elements of nums being 0, 0, 1, 1, 2, 3 and 3 respectively.\n",
    "It does not matter what you leave beyond the returned k (hence they are underscores)."
   ]
  },
  {
   "cell_type": "code",
   "execution_count": 59,
   "id": "4cc45854-ad45-4ea9-834b-157a5c8f2474",
   "metadata": {
    "tags": []
   },
   "outputs": [],
   "source": [
    "nums = [1,1,1,1,1,2,2,3] #[0,0,1,1,1,1,2,3,3]"
   ]
  },
  {
   "cell_type": "markdown",
   "id": "11312a60-1e42-435d-b7c0-43c1e24130dd",
   "metadata": {
    "tags": []
   },
   "source": [
    "Here two occurrences of each element are allowed so we cannot use set to remove duplicates"
   ]
  },
  {
   "cell_type": "code",
   "execution_count": 60,
   "id": "50478f86-70b1-4a61-9367-a3335834acde",
   "metadata": {
    "tags": []
   },
   "outputs": [],
   "source": [
    "i=0\n",
    "while (True):\n",
    "    if i <len(nums):\n",
    "        n = nums.count(nums[i]) # calculate the count of element at position 'i' \n",
    "        if n>2: # if count>2\n",
    "            #print(i, nums[i], n)\n",
    "            while(n>2): # loop to remove element till count >2\n",
    "                nums.pop(i) # remove element\n",
    "                n=n-1 # reduce n and check again             \n",
    "        else: # if n<=2, do nothing, simply increment i\n",
    "            pass\n",
    "        i=i+1 #increment i and keep moving on in while loop\n",
    "    else:\n",
    "        break # break from loop when i>len(nums), nums keep decreasing in every iteration"
   ]
  },
  {
   "cell_type": "code",
   "execution_count": 61,
   "id": "ea8d5f72-4b35-4b09-b6ca-cdec4015e064",
   "metadata": {
    "tags": []
   },
   "outputs": [
    {
     "data": {
      "text/plain": [
       "[1, 1, 2, 2, 3]"
      ]
     },
     "execution_count": 61,
     "metadata": {},
     "output_type": "execute_result"
    }
   ],
   "source": [
    "nums"
   ]
  },
  {
   "cell_type": "markdown",
   "id": "23a6ec0d-d32d-472a-862d-2f9f487133ec",
   "metadata": {},
   "source": [
    "Lets try two pointer approach"
   ]
  },
  {
   "cell_type": "code",
   "execution_count": 80,
   "id": "743f7f51-d791-4017-b92d-ad63dad7b734",
   "metadata": {
    "tags": []
   },
   "outputs": [
    {
     "data": {
      "text/plain": [
       "[1, 1]"
      ]
     },
     "execution_count": 80,
     "metadata": {},
     "output_type": "execute_result"
    }
   ],
   "source": [
    "nums = [1,2,2,2]\n",
    "\n",
    "#nums=[1,1]\n",
    "\n",
    "\n",
    "i=0 \n",
    "j=1\n",
    "\n",
    "while(True):\n",
    "    if(i<len(nums) and j+1<len(nums)):\n",
    "        if nums[i]==nums[j] and nums[i]==nums[j+1]:\n",
    "            nums.pop(i)\n",
    "            #print(nums)\n",
    "        else:\n",
    "            i=i+1\n",
    "            j=i+1\n",
    "    else:\n",
    "        break\n",
    "\n",
    "nums"
   ]
  },
  {
   "cell_type": "markdown",
   "id": "b28b2677-e0df-4db3-abf0-8c88c96d816c",
   "metadata": {},
   "source": [
    "Approach 3: O(n) - Pending"
   ]
  },
  {
   "cell_type": "code",
   "execution_count": 81,
   "id": "7837dd85-9502-415b-9905-4783cc7fba66",
   "metadata": {
    "tags": []
   },
   "outputs": [
    {
     "name": "stdout",
     "output_type": "stream",
     "text": [
      "[2, 2]\n",
      "[1, 1]\n",
      "[1, 2, 2, 3, 3]\n"
     ]
    }
   ],
   "source": [
    "def removeTriplets(nums):\n",
    "    if len(nums) < 3:\n",
    "        return nums  # No triplets possible\n",
    "\n",
    "    write = 0  # Pointer for modifying the array in-place\n",
    "    count = 1  # Count occurrences of the current number\n",
    "\n",
    "    for read in range(1, len(nums)):\n",
    "        if nums[read] == nums[read - 1]:  # Same as previous element\n",
    "            count += 1\n",
    "        else:\n",
    "            count = 1  # Reset count for a new number\n",
    "\n",
    "        if count < 3:  # Allow at most 2 occurrences\n",
    "            nums[write] = nums[read]\n",
    "            write += 1\n",
    "\n",
    "    return nums[:write]  # Trim extra elements\n",
    "\n",
    "# Example Test Cases\n",
    "nums1 = [1, 2, 2, 2]\n",
    "nums2 = [1, 1]\n",
    "nums3 = [1, 1, 1, 2, 2, 2, 3, 3, 3]\n",
    "\n",
    "print(removeTriplets(nums1))  # Output: [1, 2, 2]\n",
    "print(removeTriplets(nums2))  # Output: [1, 1]\n",
    "print(removeTriplets(nums3))  # Output: [1, 1, 2, 2, 3, 3]\n"
   ]
  }
 ],
 "metadata": {
  "kernelspec": {
   "display_name": "Python 3 (ipykernel)",
   "language": "python",
   "name": "python3"
  },
  "language_info": {
   "codemirror_mode": {
    "name": "ipython",
    "version": 3
   },
   "file_extension": ".py",
   "mimetype": "text/x-python",
   "name": "python",
   "nbconvert_exporter": "python",
   "pygments_lexer": "ipython3",
   "version": "3.11.5"
  }
 },
 "nbformat": 4,
 "nbformat_minor": 5
}
