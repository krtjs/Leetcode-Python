{
 "cells": [
  {
   "cell_type": "markdown",
   "id": "f786ff88-2f05-4bbb-a364-e6e54a7a3b9b",
   "metadata": {},
   "source": [
    "88. Merge Sorted Array\n",
    "\n",
    "You are given two integer arrays nums1 and nums2, sorted in non-decreasing order, and two integers m and n, representing the number of elements in nums1 and nums2 respectively.\n",
    "\n",
    "Merge nums1 and nums2 into a single array sorted in non-decreasing order.\n",
    "\n",
    "The final sorted array should not be returned by the function, but instead be stored inside the array nums1. To accommodate this, nums1 has a length of m + n, where the first m elements denote the elements that should be merged, and the last n elements are set to 0 and should be ignored. nums2 has a length of n.\n",
    "\n",
    " \n",
    "\n",
    "Example 1:\n",
    "\n",
    "Input: nums1 = [1,2,3,0,0,0], m = 3, nums2 = [2,5,6], n = 3\n",
    "Output: [1,2,2,3,5,6]\n",
    "Explanation: The arrays we are merging are [1,2,3] and [2,5,6].\n",
    "The result of the merge is [1,2,2,3,5,6] with the underlined elements coming from nums1.\n",
    "Example 2:\n",
    "\n",
    "Input: nums1 = [1], m = 1, nums2 = [], n = 0\n",
    "Output: [1]\n",
    "Explanation: The arrays we are merging are [1] and [].\n",
    "The result of the merge is [1].\n",
    "Example 3:\n",
    "\n",
    "Input: nums1 = [0], m = 0, nums2 = [1], n = 1\n",
    "Output: [1]\n",
    "Explanation: The arrays we are merging are [] and [1].\n",
    "The result of the merge is [1].\n",
    "Note that because m = 0, there are no elements in nums1. The 0 is only there to ensure the merge result can fit in nums1.\n",
    " \n",
    "\n",
    "Constraints:\n",
    "\n",
    "nums1.length == m + n\n",
    "nums2.length == n\n",
    "0 <= m, n <= 200\n",
    "1 <= m + n <= 200\n",
    "-109 <= nums1[i], nums2[j] <= 109\n",
    " \n",
    "\n",
    "Follow up: Can you come up with an algorithm that runs in O(m + n) time?"
   ]
  },
  {
   "cell_type": "code",
   "execution_count": 187,
   "id": "5dfe31e5-de8e-4d4a-9fd9-2456130110fa",
   "metadata": {
    "tags": []
   },
   "outputs": [],
   "source": [
    "def merge(nums1, m, nums2, n):\n",
    "    \"\"\"\n",
    "    Do not return anything, modify nums1 in-place instead.\n",
    "    \"\"\"\n",
    "    tail = len(nums1)-m\n",
    "    while(tail):\n",
    "        nums1.pop()\n",
    "        tail-=1\n",
    "    if(m>0 and n>0):\n",
    "        for i in range(n):\n",
    "            for j in range(len(nums1)):\n",
    "            # print(nums2[i], nums1[j])\n",
    "                if(nums2[i]<=nums1[j]):\n",
    "                    nums1.insert(0,nums2[i])\n",
    "                    #print(nums2[i],'inserted at start')\n",
    "                    #print(nums1)\n",
    "                    break\n",
    "                elif(nums1[-1]<=nums2[i]): \n",
    "                    nums1.append(nums2[i])\n",
    "                    #print(nums2[j],'inserted at end')\n",
    "                    #print(nums1)\n",
    "                    break\n",
    "                elif(nums2[i]>nums1[j] and nums2[i]<=nums1[j+1]):\n",
    "                    nums1.insert(j+1,nums2[i])\n",
    "                    #print(nums2[i], 'inserted between',nums1[j],'and', nums1[j+1] )\n",
    "                    #print(nums1)\n",
    "                    break\n",
    "    elif(m==0 and n>0):\n",
    "        for k in range(n):\n",
    "            nums1.insert(k,nums2[k])\n",
    "    else:\n",
    "        pass\n",
    "    print(nums1)"
   ]
  },
  {
   "cell_type": "code",
   "execution_count": 188,
   "id": "ce3407ea-cacf-4550-beb5-8121b5a0774f",
   "metadata": {
    "tags": []
   },
   "outputs": [],
   "source": [
    "nums1 = [1,2,3,0,0,0]\n",
    "m = 3\n",
    "nums2 = [2,5,6]\n",
    "n = 3"
   ]
  },
  {
   "cell_type": "code",
   "execution_count": 189,
   "id": "eafaef74-5dab-461e-b13b-f52b566494af",
   "metadata": {
    "tags": []
   },
   "outputs": [
    {
     "name": "stdout",
     "output_type": "stream",
     "text": [
      "[1, 2, 2, 3, 5, 6]\n"
     ]
    }
   ],
   "source": [
    "merge(nums1,m,nums2,n)"
   ]
  },
  {
   "cell_type": "code",
   "execution_count": 190,
   "id": "80d131ee-a486-477f-9318-8293d2b8e780",
   "metadata": {
    "tags": []
   },
   "outputs": [],
   "source": [
    "nums1=[0]\n",
    "m=0\n",
    "nums2=[1,2,3]\n",
    "n=1"
   ]
  },
  {
   "cell_type": "code",
   "execution_count": 191,
   "id": "34f19edc-af18-43aa-98b7-dc39b1c3fe46",
   "metadata": {
    "tags": []
   },
   "outputs": [
    {
     "name": "stdout",
     "output_type": "stream",
     "text": [
      "[1]\n"
     ]
    }
   ],
   "source": [
    "merge(nums1,m,nums2,n)"
   ]
  },
  {
   "cell_type": "code",
   "execution_count": 192,
   "id": "201f5350-f673-416a-818b-1906020bfcf7",
   "metadata": {
    "tags": []
   },
   "outputs": [],
   "source": [
    "nums1=[1,3]\n",
    "m=2\n",
    "nums2=[]\n",
    "n=0"
   ]
  },
  {
   "cell_type": "code",
   "execution_count": 193,
   "id": "2911ca59-0f1f-470f-a192-ab4b7b564c57",
   "metadata": {
    "tags": []
   },
   "outputs": [
    {
     "name": "stdout",
     "output_type": "stream",
     "text": [
      "[1, 3]\n"
     ]
    }
   ],
   "source": [
    "merge(nums1,m,nums2,n)"
   ]
  },
  {
   "cell_type": "code",
   "execution_count": 194,
   "id": "2df15373-9909-4433-8fb2-f5f1692cc500",
   "metadata": {
    "tags": []
   },
   "outputs": [],
   "source": [
    "nums1 =[4,0,0,0,0,0]\n",
    "m =1\n",
    "nums2 =[1,2,3,5,6]\n",
    "n =5"
   ]
  },
  {
   "cell_type": "code",
   "execution_count": 195,
   "id": "4352a362-cd04-465d-8b76-9fd1812500be",
   "metadata": {
    "tags": []
   },
   "outputs": [
    {
     "name": "stdout",
     "output_type": "stream",
     "text": [
      "[1, 2, 3, 4, 5, 6]\n"
     ]
    }
   ],
   "source": [
    "merge(nums1,m,nums2,n)"
   ]
  },
  {
   "cell_type": "code",
   "execution_count": 196,
   "id": "bee733ef-5715-4050-91f0-9ff49bac9947",
   "metadata": {
    "tags": []
   },
   "outputs": [],
   "source": [
    "nums1 =[1,2,4,5,6,0]\n",
    "m =5\n",
    "nums2 =[3]\n",
    "n =1"
   ]
  },
  {
   "cell_type": "code",
   "execution_count": 197,
   "id": "7bd3fbf7-1c94-4530-9f0c-0913fc7fef62",
   "metadata": {
    "tags": []
   },
   "outputs": [
    {
     "name": "stdout",
     "output_type": "stream",
     "text": [
      "[1, 2, 3, 4, 5, 6]\n"
     ]
    }
   ],
   "source": [
    "merge(nums1,m,nums2,n)"
   ]
  }
 ],
 "metadata": {
  "kernelspec": {
   "display_name": "Python 3 (ipykernel)",
   "language": "python",
   "name": "python3"
  },
  "language_info": {
   "codemirror_mode": {
    "name": "ipython",
    "version": 3
   },
   "file_extension": ".py",
   "mimetype": "text/x-python",
   "name": "python",
   "nbconvert_exporter": "python",
   "pygments_lexer": "ipython3",
   "version": "3.11.5"
  }
 },
 "nbformat": 4,
 "nbformat_minor": 5
}
